{
  "nbformat": 4,
  "nbformat_minor": 0,
  "metadata": {
    "colab": {
      "provenance": [],
      "authorship_tag": "ABX9TyO8oLzdShu+8wMtW3ZsY800"
    },
    "kernelspec": {
      "name": "python3",
      "display_name": "Python 3"
    },
    "language_info": {
      "name": "python"
    }
  },
  "cells": [
    {
      "cell_type": "markdown",
      "source": [
        "**List**\n",
        "Python knows a number of compound data types, used to group together other values. The most versatile is the list, which can be written as a list of comma-separated values (items) between square brackets. Lists might contain items of different types, but usually the items all have the same type.\n",
        "\n",
        "append()\n",
        "\n",
        "clear()\n",
        "\n",
        "copy() -->make deep copy\n",
        "\n",
        "count()\n",
        "\n",
        "extend () -->in memory operation\n",
        "\n",
        "index()\n",
        "\n",
        "insert()\n",
        "\n",
        "pop()\n",
        "\n",
        "remove()\n",
        "\n",
        "reverse()\n",
        "\n",
        "sort()"
      ],
      "metadata": {
        "id": "UhzbSIsL5QGK"
      }
    },
    {
      "cell_type": "code",
      "execution_count": 1,
      "metadata": {
        "colab": {
          "base_uri": "https://localhost:8080/"
        },
        "id": "OFwsb7CX5NNr",
        "outputId": "f0bcc19a-0359-4ac2-af71-3d7ac5e26414"
      },
      "outputs": [
        {
          "output_type": "execute_result",
          "data": {
            "text/plain": [
              "[1, 4, 9, 16, 25]"
            ]
          },
          "metadata": {},
          "execution_count": 1
        }
      ],
      "source": [
        "squares = [1, 4, 9, 16, 25]\n",
        "squares"
      ]
    },
    {
      "cell_type": "code",
      "source": [
        "#          0, 1, 2, 3, 4\n",
        "squares = [1, 4, 9, 16, 25]\n",
        "#          -5,-4,-3,-2,-1\n",
        "\n",
        "# Slicing ---> return shallow copy\n",
        "print(squares[0])  # indexing returns the item\n",
        "print(squares[-1]) # negative indexing (from last)\n",
        "print(squares[-3:])  # slicing returns a new list"
      ],
      "metadata": {
        "colab": {
          "base_uri": "https://localhost:8080/"
        },
        "id": "BfcaUYea5tm1",
        "outputId": "cb885ac6-6c1e-479c-8222-78dbf85f315f"
      },
      "execution_count": 2,
      "outputs": [
        {
          "output_type": "stream",
          "name": "stdout",
          "text": [
            "1\n",
            "25\n",
            "[9, 16, 25]\n"
          ]
        }
      ]
    },
    {
      "cell_type": "code",
      "source": [
        "squares[:]"
      ],
      "metadata": {
        "colab": {
          "base_uri": "https://localhost:8080/"
        },
        "id": "vhjNpbI36AEq",
        "outputId": "3713e8b8-7711-4905-c728-5b003c7f0163"
      },
      "execution_count": 3,
      "outputs": [
        {
          "output_type": "execute_result",
          "data": {
            "text/plain": [
              "[1, 4, 9, 16, 25]"
            ]
          },
          "metadata": {},
          "execution_count": 3
        }
      ]
    },
    {
      "cell_type": "markdown",
      "source": [
        "**Replacing Item In List**\n",
        "Unlike strings, which are immutable, lists are a mutable type, i.e. it is possible to change their content:"
      ],
      "metadata": {
        "id": "_ZmEwmWV6R0A"
      }
    },
    {
      "cell_type": "code",
      "source": [
        "cubes = [1, 8, 27, 65, 125]  # something's wrong here\n",
        "# 4 ** 3  # the cube of 4 is 64, not 65!\n",
        "cubes[3] = 64  # replace the wrong value\n",
        "cubes"
      ],
      "metadata": {
        "colab": {
          "base_uri": "https://localhost:8080/"
        },
        "id": "eVPQaA576E7L",
        "outputId": "26927d31-2532-41c8-ba1b-961ab8813da4"
      },
      "execution_count": 4,
      "outputs": [
        {
          "output_type": "execute_result",
          "data": {
            "text/plain": [
              "[1, 8, 27, 64, 125]"
            ]
          },
          "metadata": {},
          "execution_count": 4
        }
      ]
    },
    {
      "cell_type": "markdown",
      "source": [
        "**Shallow copy**"
      ],
      "metadata": {
        "id": "i3-QJLVO7ZK5"
      }
    },
    {
      "cell_type": "code",
      "source": [
        "l1 = ['A','B','C']\n",
        "l2 = l1 # Shallow Copy (Any change in any one will effect both list...)\n",
        "print(l1)\n",
        "print(l2)\n",
        "\n",
        "l2[0] = \"E\"\n",
        "print(l1)\n",
        "print(l2)"
      ],
      "metadata": {
        "colab": {
          "base_uri": "https://localhost:8080/"
        },
        "id": "aJCW8bji6xz4",
        "outputId": "03762c22-6913-4192-c63b-f11d8c373f24"
      },
      "execution_count": 5,
      "outputs": [
        {
          "output_type": "stream",
          "name": "stdout",
          "text": [
            "['A', 'B', 'C']\n",
            "['A', 'B', 'C']\n",
            "['E', 'B', 'C']\n",
            "['E', 'B', 'C']\n"
          ]
        }
      ]
    },
    {
      "cell_type": "markdown",
      "source": [
        "**Deep Copy**"
      ],
      "metadata": {
        "id": "BWTCd2CE7kq0"
      }
    },
    {
      "cell_type": "code",
      "source": [
        "l1 = ['A','B','C']\n",
        "l2 = l1.copy() # Deep Copy (Any change in any one will effect only that list...)\n",
        "print(l1)\n",
        "print(l2)\n",
        "\n",
        "l2[0] = \"E\"\n",
        "print(l1)\n",
        "print(l2)"
      ],
      "metadata": {
        "colab": {
          "base_uri": "https://localhost:8080/"
        },
        "id": "laYPs1IE7eWG",
        "outputId": "9e0a747d-3f82-42bc-d561-43065f58e005"
      },
      "execution_count": 6,
      "outputs": [
        {
          "output_type": "stream",
          "name": "stdout",
          "text": [
            "['A', 'B', 'C']\n",
            "['A', 'B', 'C']\n",
            "['A', 'B', 'C']\n",
            "['E', 'B', 'C']\n"
          ]
        }
      ]
    },
    {
      "cell_type": "markdown",
      "source": [
        "**List Concatenation**"
      ],
      "metadata": {
        "id": "Bjxu0lw98JLE"
      }
    },
    {
      "cell_type": "code",
      "source": [
        "squares + [36, 49, 64, 81, 100]"
      ],
      "metadata": {
        "colab": {
          "base_uri": "https://localhost:8080/"
        },
        "id": "W0tUaIA17o_I",
        "outputId": "be273aa5-38ab-4ebf-c875-124b90425e15"
      },
      "execution_count": 7,
      "outputs": [
        {
          "output_type": "execute_result",
          "data": {
            "text/plain": [
              "[1, 4, 9, 16, 25, 36, 49, 64, 81, 100]"
            ]
          },
          "metadata": {},
          "execution_count": 7
        }
      ]
    },
    {
      "cell_type": "code",
      "source": [
        "l1 = ['A',\"B\",\"C\"]\n",
        "l2 = [\"Y\",\"X\",\"Z\"]\n",
        "\n",
        "print(l1 + l2) # Inline Operation\n",
        "print(l1,l2)"
      ],
      "metadata": {
        "colab": {
          "base_uri": "https://localhost:8080/"
        },
        "id": "lAwfmKK08Meq",
        "outputId": "98c82b3e-7735-45aa-b15a-4543e8b1ad58"
      },
      "execution_count": 8,
      "outputs": [
        {
          "output_type": "stream",
          "name": "stdout",
          "text": [
            "['A', 'B', 'C', 'Y', 'X', 'Z']\n",
            "['A', 'B', 'C'] ['Y', 'X', 'Z']\n"
          ]
        }
      ]
    },
    {
      "cell_type": "code",
      "source": [
        "l1 = ['A',\"B\",\"C\"]\n",
        "l2 = [\"Y\",\"X\",\"Z\"]\n",
        "\n",
        "print(l1.__add__(l2)) # Inline Operation\n",
        "print(l1,l2)"
      ],
      "metadata": {
        "colab": {
          "base_uri": "https://localhost:8080/"
        },
        "id": "3pOfvWca8Qaa",
        "outputId": "2f0506e1-e975-4453-a2a1-52ca48dee5fe"
      },
      "execution_count": 9,
      "outputs": [
        {
          "output_type": "stream",
          "name": "stdout",
          "text": [
            "['A', 'B', 'C', 'Y', 'X', 'Z']\n",
            "['A', 'B', 'C'] ['Y', 'X', 'Z']\n"
          ]
        }
      ]
    },
    {
      "cell_type": "code",
      "source": [
        "#.extend()\n",
        "l1 = ['A',\"B\",\"C\"]\n",
        "l2 = [\"Y\",\"X\",\"Z\"]\n",
        "\n",
        "l1.extend(l2) # In Memory Operation\n",
        "\n",
        "print(l1)\n",
        "print(l2)"
      ],
      "metadata": {
        "colab": {
          "base_uri": "https://localhost:8080/"
        },
        "id": "cYAOypMW8UJL",
        "outputId": "21f2fac1-872d-4447-ac3b-e9bc5971350b"
      },
      "execution_count": 10,
      "outputs": [
        {
          "output_type": "stream",
          "name": "stdout",
          "text": [
            "['A', 'B', 'C', 'Y', 'X', 'Z']\n",
            "['Y', 'X', 'Z']\n"
          ]
        }
      ]
    },
    {
      "cell_type": "markdown",
      "source": [
        "**.index()**"
      ],
      "metadata": {
        "id": "bBCN1rVP8gou"
      }
    },
    {
      "cell_type": "code",
      "source": [
        "print(l1)\n",
        "print(l1.index(\"B\"))\n",
        "print(l1.index(\"Y\"))"
      ],
      "metadata": {
        "colab": {
          "base_uri": "https://localhost:8080/"
        },
        "id": "SPHHu4YG8YBv",
        "outputId": "e2731113-36ba-4048-e8c6-766bb4c7d8e4"
      },
      "execution_count": 11,
      "outputs": [
        {
          "output_type": "stream",
          "name": "stdout",
          "text": [
            "['A', 'B', 'C', 'Y', 'X', 'Z']\n",
            "1\n",
            "3\n"
          ]
        }
      ]
    },
    {
      "cell_type": "markdown",
      "source": [
        "**.insert()**"
      ],
      "metadata": {
        "id": "RV3_hXv286qG"
      }
    },
    {
      "cell_type": "code",
      "source": [
        "l1 = []\n",
        "l1.insert(0, \"A\")#[A]\n",
        "l1.insert(0, \"B\")#[B,A]\n",
        "l1.insert(0, \"C\")#[C,B,A]\n",
        "print(l1)\n",
        "l1.insert(1,\"D\")\n",
        "print(l1)"
      ],
      "metadata": {
        "colab": {
          "base_uri": "https://localhost:8080/"
        },
        "id": "FdDbb6h78kwQ",
        "outputId": "c2da19c0-f036-4873-abea-1aa4a5b65f95"
      },
      "execution_count": 12,
      "outputs": [
        {
          "output_type": "stream",
          "name": "stdout",
          "text": [
            "['C', 'B', 'A']\n",
            "['C', 'D', 'B', 'A']\n"
          ]
        }
      ]
    },
    {
      "cell_type": "code",
      "source": [
        "l1 = [\"A\",\"B\",\"C\"]\n",
        "del l1[-1] # [\"A\",\"B\"]\n",
        "del l1[0] #[\"B\"]\n",
        "l1"
      ],
      "metadata": {
        "colab": {
          "base_uri": "https://localhost:8080/"
        },
        "id": "j0bke4lf8_Sc",
        "outputId": "2f842a0a-744a-4c7f-db8f-aff71fd707a4"
      },
      "execution_count": 13,
      "outputs": [
        {
          "output_type": "execute_result",
          "data": {
            "text/plain": [
              "['B']"
            ]
          },
          "metadata": {},
          "execution_count": 13
        }
      ]
    },
    {
      "cell_type": "markdown",
      "source": [
        "**.append()**\n",
        "You can also add new items at the end of the list, by using the append()"
      ],
      "metadata": {
        "id": "7qKErR1Y9nWy"
      }
    },
    {
      "cell_type": "code",
      "source": [
        "print(cubes)\n",
        "cubes.append(216)  # add the cube of 6\n",
        "cubes.append(7 ** 3)  # and the cube of 7\n",
        "cubes"
      ],
      "metadata": {
        "colab": {
          "base_uri": "https://localhost:8080/"
        },
        "id": "pVv4CtUD9Sss",
        "outputId": "ff27a219-5847-4847-dfbf-5a740f61ea7c"
      },
      "execution_count": 14,
      "outputs": [
        {
          "output_type": "stream",
          "name": "stdout",
          "text": [
            "[1, 8, 27, 64, 125]\n"
          ]
        },
        {
          "output_type": "execute_result",
          "data": {
            "text/plain": [
              "[1, 8, 27, 64, 125, 216, 343]"
            ]
          },
          "metadata": {},
          "execution_count": 14
        }
      ]
    },
    {
      "cell_type": "markdown",
      "source": [
        "**.pop()**\n",
        "Remove element from list by defualt from last but you can use location as well to pop element..."
      ],
      "metadata": {
        "id": "mhrG9QtK-PEI"
      }
    },
    {
      "cell_type": "code",
      "source": [
        "l1 = [\"A\",\"B\",\"C\",\"D\",\"E\"]\n",
        "l1.pop()\n",
        "print(l1)\n",
        "l1.pop()\n",
        "print(l1)"
      ],
      "metadata": {
        "colab": {
          "base_uri": "https://localhost:8080/"
        },
        "id": "OyoEIyyW9s8X",
        "outputId": "8b2bae8f-5f2c-4ba3-eece-fb07edd87a89"
      },
      "execution_count": 15,
      "outputs": [
        {
          "output_type": "stream",
          "name": "stdout",
          "text": [
            "['A', 'B', 'C', 'D']\n",
            "['A', 'B', 'C']\n"
          ]
        }
      ]
    },
    {
      "cell_type": "code",
      "source": [
        "# .append() and .pop()\n",
        "l2 = []\n",
        "l1 = [\"A\",\"B\",\"C\",\"D\",\"E\"]\n",
        "\n",
        "a = l1.pop() # E\n",
        "l2.append(a) # [E]\n",
        "\n",
        "a = l1.pop() # D\n",
        "l2.append(a) # [E,D]\n",
        "\n",
        "a = l1.pop() # C\n",
        "l2.append(a)# [E,D,C]\n",
        "\n",
        "print(l1) # [A,B]\n",
        "print(l2) # [E,D,C]"
      ],
      "metadata": {
        "colab": {
          "base_uri": "https://localhost:8080/"
        },
        "id": "CV2DVt-V-VR_",
        "outputId": "cee9d377-ca6f-43db-c95b-d60f8be39c8b"
      },
      "execution_count": 16,
      "outputs": [
        {
          "output_type": "stream",
          "name": "stdout",
          "text": [
            "['A', 'B']\n",
            "['E', 'D', 'C']\n"
          ]
        }
      ]
    },
    {
      "cell_type": "code",
      "source": [
        "l2 = []\n",
        "l1 = [\"A\",\"B\",\"C\",\"D\",\"E\"]\n",
        "\n",
        "a = l1.pop(1) # B\n",
        "l2.append(a) # [B]\n",
        "\n",
        "a = l1.pop(1) # C\n",
        "l2.append(a) # [B,C]\n",
        "\n",
        "a = l1.pop(1) # D\n",
        "l2.append(a)# [B,C,D]\n",
        "\n",
        "print(l1)\n",
        "print(l2)"
      ],
      "metadata": {
        "colab": {
          "base_uri": "https://localhost:8080/"
        },
        "id": "akgpHwBv-XzO",
        "outputId": "bc66f3a1-2701-4227-ac35-1a5f670bb8be"
      },
      "execution_count": 17,
      "outputs": [
        {
          "output_type": "stream",
          "name": "stdout",
          "text": [
            "['A', 'E']\n",
            "['B', 'C', 'D']\n"
          ]
        }
      ]
    },
    {
      "cell_type": "markdown",
      "source": [
        "**.remove()**"
      ],
      "metadata": {
        "id": "_kkaxkOA-epC"
      }
    },
    {
      "cell_type": "code",
      "source": [
        "l1 = [\"A\",\"B\",\"C\",\"B\",\"E\"]\n",
        "l1.remove(\"B\")\n",
        "print(l1)\n",
        "l1.remove(\"B\")\n",
        "print(l1)"
      ],
      "metadata": {
        "colab": {
          "base_uri": "https://localhost:8080/"
        },
        "id": "to4FUpWY-cP8",
        "outputId": "ab0a3289-9f1e-4b80-a1aa-24abe7986a40"
      },
      "execution_count": 18,
      "outputs": [
        {
          "output_type": "stream",
          "name": "stdout",
          "text": [
            "['A', 'C', 'B', 'E']\n",
            "['A', 'C', 'E']\n"
          ]
        }
      ]
    },
    {
      "cell_type": "markdown",
      "source": [
        "**.reverse()**"
      ],
      "metadata": {
        "id": "QXOta6eN-6ot"
      }
    },
    {
      "cell_type": "code",
      "source": [
        "l1 = [\"A\",\"B\",\"X\",\"C\",\"Y\",\"Z\"]\n",
        "print(l1)\n",
        "l1.reverse()\n",
        "print(l1)"
      ],
      "metadata": {
        "colab": {
          "base_uri": "https://localhost:8080/"
        },
        "id": "x96AiqoZ-i-T",
        "outputId": "3ba3d702-7c68-4837-90b5-3a89b53a08e7"
      },
      "execution_count": 19,
      "outputs": [
        {
          "output_type": "stream",
          "name": "stdout",
          "text": [
            "['A', 'B', 'X', 'C', 'Y', 'Z']\n",
            "['Z', 'Y', 'C', 'X', 'B', 'A']\n"
          ]
        }
      ]
    },
    {
      "cell_type": "markdown",
      "source": [
        "**.clear()**"
      ],
      "metadata": {
        "id": "AIicdpL--_76"
      }
    },
    {
      "cell_type": "code",
      "source": [
        "l1 = [\"A\",\"B\", \"C\"]\n",
        "print(l1)\n",
        "l1.clear()\n",
        "print(l1)"
      ],
      "metadata": {
        "colab": {
          "base_uri": "https://localhost:8080/"
        },
        "id": "_fqUljES-9bQ",
        "outputId": "2341bcde-eadc-47f8-d487-31fe4b853443"
      },
      "execution_count": 20,
      "outputs": [
        {
          "output_type": "stream",
          "name": "stdout",
          "text": [
            "['A', 'B', 'C']\n",
            "[]\n"
          ]
        }
      ]
    },
    {
      "cell_type": "markdown",
      "source": [
        "**.count()**"
      ],
      "metadata": {
        "id": "o6grKLj3_MKs"
      }
    },
    {
      "cell_type": "code",
      "source": [
        "l1 = ['A','B','C']\n",
        "print(l1.count(\"C\"))\n",
        "l1 = ['A','B','C','B','B']\n",
        "print(l1.count(\"B\"))"
      ],
      "metadata": {
        "colab": {
          "base_uri": "https://localhost:8080/"
        },
        "id": "ERMeEyBh_G2J",
        "outputId": "f4342748-95b4-4ae9-bf98-03c15d3d157b"
      },
      "execution_count": 21,
      "outputs": [
        {
          "output_type": "stream",
          "name": "stdout",
          "text": [
            "1\n",
            "3\n"
          ]
        }
      ]
    },
    {
      "cell_type": "markdown",
      "source": [
        "**.sort()**"
      ],
      "metadata": {
        "id": "upp1eMVb_ag-"
      }
    },
    {
      "cell_type": "code",
      "source": [
        "l1 = [\"A\",\"B\",\"X\",\"C\",\"Y\",\"Z\"]\n",
        "print(l1)\n",
        "l1.sort()\n",
        "print(l1)"
      ],
      "metadata": {
        "colab": {
          "base_uri": "https://localhost:8080/"
        },
        "id": "Q_UlNxC__Pbw",
        "outputId": "173e0b0d-093f-4c0b-e5cf-87970564c303"
      },
      "execution_count": 22,
      "outputs": [
        {
          "output_type": "stream",
          "name": "stdout",
          "text": [
            "['A', 'B', 'X', 'C', 'Y', 'Z']\n",
            "['A', 'B', 'C', 'X', 'Y', 'Z']\n"
          ]
        }
      ]
    },
    {
      "cell_type": "code",
      "source": [
        "l1 = [\"A\",\"B\",\"X\",\"C\",\"Y\",\"Z\"]\n",
        "print(l1)\n",
        "l1.sort()\n",
        "l1.reverse()\n",
        "print(l1)"
      ],
      "metadata": {
        "colab": {
          "base_uri": "https://localhost:8080/"
        },
        "id": "SKZpKLKc_dXe",
        "outputId": "a381ed4c-5346-43d9-fce8-931e0be35959"
      },
      "execution_count": 23,
      "outputs": [
        {
          "output_type": "stream",
          "name": "stdout",
          "text": [
            "['A', 'B', 'X', 'C', 'Y', 'Z']\n",
            "['Z', 'Y', 'X', 'C', 'B', 'A']\n"
          ]
        }
      ]
    },
    {
      "cell_type": "code",
      "source": [
        "l1 = [\"A\",\"B\",\"X\",\"C\",\"Y\",\"Z\"]\n",
        "print(l1)\n",
        "l1.sort(reverse=True)\n",
        "print(l1)"
      ],
      "metadata": {
        "colab": {
          "base_uri": "https://localhost:8080/"
        },
        "id": "DDoP2VL5_iIm",
        "outputId": "d94b1eea-c91d-42cd-8229-45a5ae958db8"
      },
      "execution_count": 24,
      "outputs": [
        {
          "output_type": "stream",
          "name": "stdout",
          "text": [
            "['A', 'B', 'X', 'C', 'Y', 'Z']\n",
            "['Z', 'Y', 'X', 'C', 'B', 'A']\n"
          ]
        }
      ]
    },
    {
      "cell_type": "markdown",
      "source": [
        "**Magic or Dunder Methods**\n",
        "\n",
        "__class__\n",
        "\n",
        "__contains__()\n",
        "\n",
        "__doc__\n",
        "\n",
        "__delitem__()\n",
        "\n",
        "__eq__()\n",
        "\n",
        "__le__()\n",
        "\n",
        "__ge__()\n",
        "\n",
        "__sizeoff__()"
      ],
      "metadata": {
        "id": "GbUHb3yFLGAO"
      }
    },
    {
      "cell_type": "code",
      "source": [
        "l1 = ['A','B','C']\n",
        "print(l1)\n",
        "l1.__class__"
      ],
      "metadata": {
        "id": "SMzDwMFm_lHZ",
        "colab": {
          "base_uri": "https://localhost:8080/"
        },
        "outputId": "af4b9d6f-5e78-4777-9a80-ae4df112f2d4"
      },
      "execution_count": 26,
      "outputs": [
        {
          "output_type": "stream",
          "name": "stdout",
          "text": [
            "['A', 'B', 'C']\n"
          ]
        },
        {
          "output_type": "execute_result",
          "data": {
            "text/plain": [
              "list"
            ]
          },
          "metadata": {},
          "execution_count": 26
        }
      ]
    },
    {
      "cell_type": "code",
      "source": [
        "print(l1)\n",
        "l1.__contains__('B')"
      ],
      "metadata": {
        "colab": {
          "base_uri": "https://localhost:8080/"
        },
        "id": "P58pEjXQ_3M5",
        "outputId": "d68c5860-8bbb-4a39-8a8d-2a0b5bf50249"
      },
      "execution_count": 27,
      "outputs": [
        {
          "output_type": "stream",
          "name": "stdout",
          "text": [
            "['A', 'B', 'C']\n"
          ]
        },
        {
          "output_type": "execute_result",
          "data": {
            "text/plain": [
              "True"
            ]
          },
          "metadata": {},
          "execution_count": 27
        }
      ]
    },
    {
      "cell_type": "code",
      "source": [
        "print(l1)\n",
        "l1.__doc__"
      ],
      "metadata": {
        "id": "CZEQpfDK_38D",
        "colab": {
          "base_uri": "https://localhost:8080/",
          "height": 70
        },
        "outputId": "e068c23a-1604-4066-abee-e3e9e8a85390"
      },
      "execution_count": 28,
      "outputs": [
        {
          "output_type": "stream",
          "name": "stdout",
          "text": [
            "['A', 'B', 'C']\n"
          ]
        },
        {
          "output_type": "execute_result",
          "data": {
            "text/plain": [
              "'Built-in mutable sequence.\\n\\nIf no argument is given, the constructor creates a new empty list.\\nThe argument must be an iterable if specified.'"
            ],
            "application/vnd.google.colaboratory.intrinsic+json": {
              "type": "string"
            }
          },
          "metadata": {},
          "execution_count": 28
        }
      ]
    },
    {
      "cell_type": "code",
      "source": [
        "print(l1)\n",
        "l1.__delitem__(2)\n",
        "l1"
      ],
      "metadata": {
        "colab": {
          "base_uri": "https://localhost:8080/"
        },
        "id": "9lHOTNHBMCG3",
        "outputId": "5d567fb7-9091-477a-9ea7-1855d5b48374"
      },
      "execution_count": 29,
      "outputs": [
        {
          "output_type": "stream",
          "name": "stdout",
          "text": [
            "['A', 'B', 'C']\n"
          ]
        },
        {
          "output_type": "execute_result",
          "data": {
            "text/plain": [
              "['A', 'B']"
            ]
          },
          "metadata": {},
          "execution_count": 29
        }
      ]
    },
    {
      "cell_type": "code",
      "source": [
        "[1,2,3].__eq__([3,2,1]) # equal"
      ],
      "metadata": {
        "colab": {
          "base_uri": "https://localhost:8080/"
        },
        "id": "rwoHNm1RMGia",
        "outputId": "135f582a-091e-4452-d94a-40aa921e618e"
      },
      "execution_count": 30,
      "outputs": [
        {
          "output_type": "execute_result",
          "data": {
            "text/plain": [
              "False"
            ]
          },
          "metadata": {},
          "execution_count": 30
        }
      ]
    },
    {
      "cell_type": "code",
      "source": [
        "#5,7,9\n",
        "#1,2,4\n",
        "[5,7,9].__le__([1,2,4])#less than"
      ],
      "metadata": {
        "colab": {
          "base_uri": "https://localhost:8080/"
        },
        "id": "H92jNsujML79",
        "outputId": "7f47161e-da73-48ef-9c56-f3ba8a53979e"
      },
      "execution_count": 31,
      "outputs": [
        {
          "output_type": "execute_result",
          "data": {
            "text/plain": [
              "False"
            ]
          },
          "metadata": {},
          "execution_count": 31
        }
      ]
    },
    {
      "cell_type": "code",
      "source": [
        "#5,7,9\n",
        "#1,2,4\n",
        "[5,7,9].__ge__([1,2,4])#geater than"
      ],
      "metadata": {
        "colab": {
          "base_uri": "https://localhost:8080/"
        },
        "id": "A5XgD4_AMV0-",
        "outputId": "6c1121c3-ddbb-46f6-ecbf-8d8cbc867e7f"
      },
      "execution_count": 32,
      "outputs": [
        {
          "output_type": "execute_result",
          "data": {
            "text/plain": [
              "True"
            ]
          },
          "metadata": {},
          "execution_count": 32
        }
      ]
    },
    {
      "cell_type": "code",
      "source": [
        "[2].__mul__(4)"
      ],
      "metadata": {
        "colab": {
          "base_uri": "https://localhost:8080/"
        },
        "id": "XaSdPxDlMaew",
        "outputId": "4f29c6ae-eaa5-46f3-f365-852713ccca38"
      },
      "execution_count": 33,
      "outputs": [
        {
          "output_type": "execute_result",
          "data": {
            "text/plain": [
              "[2, 2, 2, 2]"
            ]
          },
          "metadata": {},
          "execution_count": 33
        }
      ]
    },
    {
      "cell_type": "code",
      "source": [
        "[\"2\"].__mul__(4)"
      ],
      "metadata": {
        "colab": {
          "base_uri": "https://localhost:8080/"
        },
        "id": "qSdYEvr5Mm3a",
        "outputId": "e70898bc-779b-4c99-a6ac-f50878affa4d"
      },
      "execution_count": 34,
      "outputs": [
        {
          "output_type": "execute_result",
          "data": {
            "text/plain": [
              "['2', '2', '2', '2']"
            ]
          },
          "metadata": {},
          "execution_count": 34
        }
      ]
    },
    {
      "cell_type": "code",
      "source": [
        "['m'].__sizeof__()"
      ],
      "metadata": {
        "colab": {
          "base_uri": "https://localhost:8080/"
        },
        "id": "b6CTi4l7MrVL",
        "outputId": "7f77b4ad-47df-4a5f-afca-c7ce539c643a"
      },
      "execution_count": 35,
      "outputs": [
        {
          "output_type": "execute_result",
          "data": {
            "text/plain": [
              "48"
            ]
          },
          "metadata": {},
          "execution_count": 35
        }
      ]
    },
    {
      "cell_type": "markdown",
      "source": [
        "**Nested List**"
      ],
      "metadata": {
        "id": "yBQWcVWUM6A5"
      }
    },
    {
      "cell_type": "code",
      "source": [
        "a = ['a', 'b', 'c']\n",
        "n = [1, 2, 3]\n",
        "x = [a, n]\n",
        "x"
      ],
      "metadata": {
        "colab": {
          "base_uri": "https://localhost:8080/"
        },
        "id": "QrSxcz8DMs1o",
        "outputId": "69ed5889-2f30-4536-9a78-4e8ea866d832"
      },
      "execution_count": 37,
      "outputs": [
        {
          "output_type": "execute_result",
          "data": {
            "text/plain": [
              "[['a', 'b', 'c'], [1, 2, 3]]"
            ]
          },
          "metadata": {},
          "execution_count": 37
        }
      ]
    },
    {
      "cell_type": "code",
      "source": [
        "x[0]"
      ],
      "metadata": {
        "colab": {
          "base_uri": "https://localhost:8080/"
        },
        "id": "7jYK-jLwM3Iq",
        "outputId": "deac6869-ac80-4c32-dd21-5ff0732e5a38"
      },
      "execution_count": 38,
      "outputs": [
        {
          "output_type": "execute_result",
          "data": {
            "text/plain": [
              "['a', 'b', 'c']"
            ]
          },
          "metadata": {},
          "execution_count": 38
        }
      ]
    },
    {
      "cell_type": "code",
      "source": [
        "x[1]"
      ],
      "metadata": {
        "colab": {
          "base_uri": "https://localhost:8080/"
        },
        "id": "YUA2ADhUNKWd",
        "outputId": "e60e0728-7475-4505-d52c-0299adc21980"
      },
      "execution_count": 39,
      "outputs": [
        {
          "output_type": "execute_result",
          "data": {
            "text/plain": [
              "[1, 2, 3]"
            ]
          },
          "metadata": {},
          "execution_count": 39
        }
      ]
    },
    {
      "cell_type": "markdown",
      "source": [
        "**Tuple**\n",
        "Tuples are immutable sequences, typically used to store collections of heterogeneous data (such as the 2-tuples produced by the enumerate() built-in)."
      ],
      "metadata": {
        "id": "yHPN2DqINSBy"
      }
    },
    {
      "cell_type": "code",
      "source": [
        "l1 = ('A','B','C')\n",
        "print(l1)\n",
        "l1[0] = 'Pakistan'\n",
        "print(l1)"
      ],
      "metadata": {
        "colab": {
          "base_uri": "https://localhost:8080/",
          "height": 211
        },
        "id": "OP82iub2NLZh",
        "outputId": "1df53104-7c3b-4364-c075-6c1744dcb82d"
      },
      "execution_count": 40,
      "outputs": [
        {
          "output_type": "stream",
          "name": "stdout",
          "text": [
            "('A', 'B', 'C')\n"
          ]
        },
        {
          "output_type": "error",
          "ename": "TypeError",
          "evalue": "'tuple' object does not support item assignment",
          "traceback": [
            "\u001b[0;31m---------------------------------------------------------------------------\u001b[0m",
            "\u001b[0;31mTypeError\u001b[0m                                 Traceback (most recent call last)",
            "\u001b[0;32m<ipython-input-40-e5975573cb44>\u001b[0m in \u001b[0;36m<cell line: 0>\u001b[0;34m()\u001b[0m\n\u001b[1;32m      1\u001b[0m \u001b[0ml1\u001b[0m \u001b[0;34m=\u001b[0m \u001b[0;34m(\u001b[0m\u001b[0;34m'A'\u001b[0m\u001b[0;34m,\u001b[0m\u001b[0;34m'B'\u001b[0m\u001b[0;34m,\u001b[0m\u001b[0;34m'C'\u001b[0m\u001b[0;34m)\u001b[0m\u001b[0;34m\u001b[0m\u001b[0;34m\u001b[0m\u001b[0m\n\u001b[1;32m      2\u001b[0m \u001b[0mprint\u001b[0m\u001b[0;34m(\u001b[0m\u001b[0ml1\u001b[0m\u001b[0;34m)\u001b[0m\u001b[0;34m\u001b[0m\u001b[0;34m\u001b[0m\u001b[0m\n\u001b[0;32m----> 3\u001b[0;31m \u001b[0ml1\u001b[0m\u001b[0;34m[\u001b[0m\u001b[0;36m0\u001b[0m\u001b[0;34m]\u001b[0m \u001b[0;34m=\u001b[0m \u001b[0;34m'Pakistan'\u001b[0m\u001b[0;34m\u001b[0m\u001b[0;34m\u001b[0m\u001b[0m\n\u001b[0m\u001b[1;32m      4\u001b[0m \u001b[0mprint\u001b[0m\u001b[0;34m(\u001b[0m\u001b[0ml1\u001b[0m\u001b[0;34m)\u001b[0m\u001b[0;34m\u001b[0m\u001b[0;34m\u001b[0m\u001b[0m\n",
            "\u001b[0;31mTypeError\u001b[0m: 'tuple' object does not support item assignment"
          ]
        }
      ]
    },
    {
      "cell_type": "code",
      "source": [
        "t1 = ('A',5,'B','A','A','A')\n",
        "t1"
      ],
      "metadata": {
        "colab": {
          "base_uri": "https://localhost:8080/"
        },
        "id": "7yUpt-00NgXD",
        "outputId": "a162a455-5037-4628-cb7a-08b31c853c4e"
      },
      "execution_count": 41,
      "outputs": [
        {
          "output_type": "execute_result",
          "data": {
            "text/plain": [
              "('A', 5, 'B', 'A', 'A', 'A')"
            ]
          },
          "metadata": {},
          "execution_count": 41
        }
      ]
    },
    {
      "cell_type": "code",
      "source": [
        "t1 = ('A',5,'B','A','A','A')\n",
        "t1.count('A')"
      ],
      "metadata": {
        "colab": {
          "base_uri": "https://localhost:8080/"
        },
        "id": "zhcSNT6CNnG5",
        "outputId": "ff30866a-520f-4a54-a03f-e5e2d1758025"
      },
      "execution_count": 42,
      "outputs": [
        {
          "output_type": "execute_result",
          "data": {
            "text/plain": [
              "4"
            ]
          },
          "metadata": {},
          "execution_count": 42
        }
      ]
    },
    {
      "cell_type": "code",
      "source": [
        "t1 = ('A',5,'B','A','A','A')\n",
        "t1.index('A',4)"
      ],
      "metadata": {
        "colab": {
          "base_uri": "https://localhost:8080/"
        },
        "id": "dLp0lWHbNspz",
        "outputId": "0d3e890f-3a22-46b3-8d43-be8ef42efc8d"
      },
      "execution_count": 48,
      "outputs": [
        {
          "output_type": "execute_result",
          "data": {
            "text/plain": [
              "4"
            ]
          },
          "metadata": {},
          "execution_count": 48
        }
      ]
    },
    {
      "cell_type": "code",
      "source": [
        "help(tuple)"
      ],
      "metadata": {
        "colab": {
          "base_uri": "https://localhost:8080/"
        },
        "id": "dC9qK52KNuOF",
        "outputId": "c95b4a53-bb6c-436f-bd78-9e3edf8607e3"
      },
      "execution_count": 49,
      "outputs": [
        {
          "output_type": "stream",
          "name": "stdout",
          "text": [
            "Help on class tuple in module builtins:\n",
            "\n",
            "class tuple(object)\n",
            " |  tuple(iterable=(), /)\n",
            " |  \n",
            " |  Built-in immutable sequence.\n",
            " |  \n",
            " |  If no argument is given, the constructor returns an empty tuple.\n",
            " |  If iterable is specified the tuple is initialized from iterable's items.\n",
            " |  \n",
            " |  If the argument is a tuple, the return value is the same object.\n",
            " |  \n",
            " |  Built-in subclasses:\n",
            " |      asyncgen_hooks\n",
            " |      MonthDayNano\n",
            " |      UnraisableHookArgs\n",
            " |  \n",
            " |  Methods defined here:\n",
            " |  \n",
            " |  __add__(self, value, /)\n",
            " |      Return self+value.\n",
            " |  \n",
            " |  __contains__(self, key, /)\n",
            " |      Return key in self.\n",
            " |  \n",
            " |  __eq__(self, value, /)\n",
            " |      Return self==value.\n",
            " |  \n",
            " |  __ge__(self, value, /)\n",
            " |      Return self>=value.\n",
            " |  \n",
            " |  __getattribute__(self, name, /)\n",
            " |      Return getattr(self, name).\n",
            " |  \n",
            " |  __getitem__(self, key, /)\n",
            " |      Return self[key].\n",
            " |  \n",
            " |  __getnewargs__(self, /)\n",
            " |  \n",
            " |  __gt__(self, value, /)\n",
            " |      Return self>value.\n",
            " |  \n",
            " |  __hash__(self, /)\n",
            " |      Return hash(self).\n",
            " |  \n",
            " |  __iter__(self, /)\n",
            " |      Implement iter(self).\n",
            " |  \n",
            " |  __le__(self, value, /)\n",
            " |      Return self<=value.\n",
            " |  \n",
            " |  __len__(self, /)\n",
            " |      Return len(self).\n",
            " |  \n",
            " |  __lt__(self, value, /)\n",
            " |      Return self<value.\n",
            " |  \n",
            " |  __mul__(self, value, /)\n",
            " |      Return self*value.\n",
            " |  \n",
            " |  __ne__(self, value, /)\n",
            " |      Return self!=value.\n",
            " |  \n",
            " |  __repr__(self, /)\n",
            " |      Return repr(self).\n",
            " |  \n",
            " |  __rmul__(self, value, /)\n",
            " |      Return value*self.\n",
            " |  \n",
            " |  count(self, value, /)\n",
            " |      Return number of occurrences of value.\n",
            " |  \n",
            " |  index(self, value, start=0, stop=9223372036854775807, /)\n",
            " |      Return first index of value.\n",
            " |      \n",
            " |      Raises ValueError if the value is not present.\n",
            " |  \n",
            " |  ----------------------------------------------------------------------\n",
            " |  Class methods defined here:\n",
            " |  \n",
            " |  __class_getitem__(...)\n",
            " |      See PEP 585\n",
            " |  \n",
            " |  ----------------------------------------------------------------------\n",
            " |  Static methods defined here:\n",
            " |  \n",
            " |  __new__(*args, **kwargs)\n",
            " |      Create and return a new object.  See help(type) for accurate signature.\n",
            "\n"
          ]
        }
      ]
    },
    {
      "cell_type": "code",
      "source": [],
      "metadata": {
        "id": "6ocSWWuhOl2C"
      },
      "execution_count": null,
      "outputs": []
    }
  ]
}