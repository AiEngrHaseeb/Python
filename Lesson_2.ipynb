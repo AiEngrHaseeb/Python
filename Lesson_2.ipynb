{
  "nbformat": 4,
  "nbformat_minor": 0,
  "metadata": {
    "colab": {
      "provenance": [],
      "authorship_tag": "ABX9TyNxwIjC3mk9HZfp+ctWK/wf"
    },
    "kernelspec": {
      "name": "python3",
      "display_name": "Python 3"
    },
    "language_info": {
      "name": "python"
    }
  },
  "cells": [
    {
      "cell_type": "markdown",
      "source": [
        "### Comparison (Relational) Operators\n",
        "        ==\n",
        "        >\n",
        "        <\n",
        "        >=\n",
        "        <=\n",
        "        != <>"
      ],
      "metadata": {
        "id": "PSr34DFjO7Vg"
      }
    },
    {
      "cell_type": "code",
      "execution_count": 1,
      "metadata": {
        "colab": {
          "base_uri": "https://localhost:8080/"
        },
        "id": "ln63WoLgO2Oq",
        "outputId": "bb2ce2c6-5462-4970-84a4-f08754d92b8e"
      },
      "outputs": [
        {
          "output_type": "execute_result",
          "data": {
            "text/plain": [
              "True"
            ]
          },
          "metadata": {},
          "execution_count": 1
        }
      ],
      "source": [
        "3 == 3"
      ]
    },
    {
      "cell_type": "code",
      "source": [
        "3 == 3.0"
      ],
      "metadata": {
        "colab": {
          "base_uri": "https://localhost:8080/"
        },
        "id": "yY6OrD3tP0xw",
        "outputId": "7d6ceaff-adbc-4c04-beb9-05c5bf1ecf7e"
      },
      "execution_count": 2,
      "outputs": [
        {
          "output_type": "execute_result",
          "data": {
            "text/plain": [
              "True"
            ]
          },
          "metadata": {},
          "execution_count": 2
        }
      ]
    },
    {
      "cell_type": "code",
      "source": [
        "3 == 3"
      ],
      "metadata": {
        "colab": {
          "base_uri": "https://localhost:8080/"
        },
        "id": "SZdHKp46P3un",
        "outputId": "dc61c4e8-97c6-4c67-9673-e0df2b0754eb"
      },
      "execution_count": 3,
      "outputs": [
        {
          "output_type": "execute_result",
          "data": {
            "text/plain": [
              "False"
            ]
          },
          "metadata": {},
          "execution_count": 3
        }
      ]
    },
    {
      "cell_type": "code",
      "source": [
        "'H' == 'h' #FALSE because of change in ASCII value..."
      ],
      "metadata": {
        "colab": {
          "base_uri": "https://localhost:8080/"
        },
        "id": "P-t7v5c0P5En",
        "outputId": "94c2c56d-ccaa-4374-ac06-07873a1ed426"
      },
      "execution_count": 5,
      "outputs": [
        {
          "output_type": "execute_result",
          "data": {
            "text/plain": [
              "False"
            ]
          },
          "metadata": {},
          "execution_count": 5
        }
      ]
    },
    {
      "cell_type": "code",
      "source": [
        " 5 > 3"
      ],
      "metadata": {
        "colab": {
          "base_uri": "https://localhost:8080/"
        },
        "id": "922SIZxoP8jp",
        "outputId": "3767d622-287a-41a7-c09b-288d9a714f9b"
      },
      "execution_count": 6,
      "outputs": [
        {
          "output_type": "execute_result",
          "data": {
            "text/plain": [
              "True"
            ]
          },
          "metadata": {},
          "execution_count": 6
        }
      ]
    },
    {
      "cell_type": "code",
      "source": [
        "5 >= 5"
      ],
      "metadata": {
        "colab": {
          "base_uri": "https://localhost:8080/"
        },
        "id": "5tkyyBUzP_-f",
        "outputId": "d79ece1a-3da4-452d-9791-f187ffcfe18f"
      },
      "execution_count": 7,
      "outputs": [
        {
          "output_type": "execute_result",
          "data": {
            "text/plain": [
              "True"
            ]
          },
          "metadata": {},
          "execution_count": 7
        }
      ]
    },
    {
      "cell_type": "code",
      "source": [
        "\"A\" > \"B\""
      ],
      "metadata": {
        "colab": {
          "base_uri": "https://localhost:8080/"
        },
        "id": "SNTLWjMSQB4r",
        "outputId": "c9a23a10-ee80-4a79-cb2c-1216f4138379"
      },
      "execution_count": 8,
      "outputs": [
        {
          "output_type": "execute_result",
          "data": {
            "text/plain": [
              "False"
            ]
          },
          "metadata": {},
          "execution_count": 8
        }
      ]
    },
    {
      "cell_type": "code",
      "source": [
        "# Why?...A > B => FALSE\n",
        "# b/c of ASCII\n",
        "    # A=65  -> Z=90\n",
        "    # a=97  -> z=122\n",
        "    # 0=48  -> 9=57\n",
        "\n",
        "print(ord('A') )\n",
        "print(ord('B') )\n",
        "ord('A') > ord('B') #ord get the value of char from ASCII...(insert value...get chr)."
      ],
      "metadata": {
        "colab": {
          "base_uri": "https://localhost:8080/"
        },
        "id": "lHgi2BqvQGHm",
        "outputId": "ac241038-9096-48dc-9c5b-02a4665af4e4"
      },
      "execution_count": 9,
      "outputs": [
        {
          "output_type": "stream",
          "name": "stdout",
          "text": [
            "65\n",
            "66\n"
          ]
        },
        {
          "output_type": "execute_result",
          "data": {
            "text/plain": [
              "False"
            ]
          },
          "metadata": {},
          "execution_count": 9
        }
      ]
    },
    {
      "cell_type": "code",
      "source": [
        "chr(65)\n",
        "#pass value to get the char from ASCII...(insert chr...get value)."
      ],
      "metadata": {
        "colab": {
          "base_uri": "https://localhost:8080/",
          "height": 35
        },
        "id": "ZfCQ5mfLQPMm",
        "outputId": "f520e5e8-c6da-4b8f-92a2-c2c22f3a5c73"
      },
      "execution_count": 10,
      "outputs": [
        {
          "output_type": "execute_result",
          "data": {
            "text/plain": [
              "'A'"
            ],
            "application/vnd.google.colaboratory.intrinsic+json": {
              "type": "string"
            }
          },
          "metadata": {},
          "execution_count": 10
        }
      ]
    },
    {
      "cell_type": "code",
      "source": [
        "3 < 4"
      ],
      "metadata": {
        "colab": {
          "base_uri": "https://localhost:8080/"
        },
        "id": "z0vdwQC0QVnr",
        "outputId": "88052ea0-e024-4af8-eb23-9f04900df809"
      },
      "execution_count": 11,
      "outputs": [
        {
          "output_type": "execute_result",
          "data": {
            "text/plain": [
              "True"
            ]
          },
          "metadata": {},
          "execution_count": 11
        }
      ]
    },
    {
      "cell_type": "code",
      "source": [
        "3 <= 4"
      ],
      "metadata": {
        "colab": {
          "base_uri": "https://localhost:8080/"
        },
        "id": "U3eDQ2GaQikq",
        "outputId": "19572a44-338f-49e8-d6ad-0bcc05dd2635"
      },
      "execution_count": 12,
      "outputs": [
        {
          "output_type": "execute_result",
          "data": {
            "text/plain": [
              "True"
            ]
          },
          "metadata": {},
          "execution_count": 12
        }
      ]
    },
    {
      "cell_type": "code",
      "source": [
        "\"Haseeb\" != \"haseeb\""
      ],
      "metadata": {
        "colab": {
          "base_uri": "https://localhost:8080/"
        },
        "id": "FTAisTRjQkC_",
        "outputId": "f1cdf27a-739a-4404-b2df-8d2e273d91cf"
      },
      "execution_count": 13,
      "outputs": [
        {
          "output_type": "execute_result",
          "data": {
            "text/plain": [
              "True"
            ]
          },
          "metadata": {},
          "execution_count": 13
        }
      ]
    },
    {
      "cell_type": "code",
      "source": [
        "2 != 2"
      ],
      "metadata": {
        "colab": {
          "base_uri": "https://localhost:8080/"
        },
        "id": "BdBXebMHQmZQ",
        "outputId": "3a028d7c-9fb3-490e-e9b7-2b7fe2127ca0"
      },
      "execution_count": 14,
      "outputs": [
        {
          "output_type": "execute_result",
          "data": {
            "text/plain": [
              "False"
            ]
          },
          "metadata": {},
          "execution_count": 14
        }
      ]
    },
    {
      "cell_type": "markdown",
      "source": [
        " ### Assignment Operators\n",
        "        =\n",
        "        +=\n",
        "        -=\n",
        "        *=\n",
        "        /=\n",
        "        //=\n",
        "        **=\n",
        "        %="
      ],
      "metadata": {
        "id": "3KRKtfOmQ25A"
      }
    },
    {
      "cell_type": "code",
      "source": [
        "a = 10\n",
        "print(a)"
      ],
      "metadata": {
        "colab": {
          "base_uri": "https://localhost:8080/"
        },
        "id": "-nc2KSlwQoAx",
        "outputId": "c6d499be-ea1f-4e9f-ab64-299b515b8f72"
      },
      "execution_count": 15,
      "outputs": [
        {
          "output_type": "stream",
          "name": "stdout",
          "text": [
            "10\n"
          ]
        }
      ]
    },
    {
      "cell_type": "code",
      "source": [
        "a = 10\n",
        "b = 11\n",
        "c = 12\n",
        "print(a,b,c)"
      ],
      "metadata": {
        "colab": {
          "base_uri": "https://localhost:8080/"
        },
        "id": "7VvhR05SRUKa",
        "outputId": "3c56d694-e129-4e42-a5af-d1e91b5c192e"
      },
      "execution_count": 16,
      "outputs": [
        {
          "output_type": "stream",
          "name": "stdout",
          "text": [
            "10 11 12\n"
          ]
        }
      ]
    },
    {
      "cell_type": "code",
      "source": [
        "a = 10; b = 11; c = 12; print(a,b,c)"
      ],
      "metadata": {
        "colab": {
          "base_uri": "https://localhost:8080/"
        },
        "id": "tholDuoIRWCV",
        "outputId": "231b66c4-89be-44d6-d95d-293dee38ec28"
      },
      "execution_count": 17,
      "outputs": [
        {
          "output_type": "stream",
          "name": "stdout",
          "text": [
            "10 11 12\n"
          ]
        }
      ]
    },
    {
      "cell_type": "code",
      "source": [
        "a, b, c = 10, 11, 12\n",
        "print(a,b,c)"
      ],
      "metadata": {
        "colab": {
          "base_uri": "https://localhost:8080/"
        },
        "id": "XgmXvadhRa-N",
        "outputId": "e469370e-29d8-42c7-a995-b24c889f5716"
      },
      "execution_count": 18,
      "outputs": [
        {
          "output_type": "stream",
          "name": "stdout",
          "text": [
            "10 11 12\n"
          ]
        }
      ]
    },
    {
      "cell_type": "code",
      "source": [
        "a = 10    # 10\n",
        "a = a + 2 # 10 + 2 = 12\n",
        "a = a + 3 # 12 + 3= 15\n",
        "a = a + 4 # 15 + 4 = 19\n",
        "print(a)"
      ],
      "metadata": {
        "colab": {
          "base_uri": "https://localhost:8080/"
        },
        "id": "t7Ci-KdfRtyE",
        "outputId": "80dffb25-de45-477e-c984-786211adc839"
      },
      "execution_count": 19,
      "outputs": [
        {
          "output_type": "stream",
          "name": "stdout",
          "text": [
            "19\n"
          ]
        }
      ]
    },
    {
      "cell_type": "code",
      "source": [
        "a = 10 # 10\n",
        "a +=2 # 10 + 2 = 12\n",
        "a +=3 # 12 + 3= 15\n",
        "a +=4 # 15 + 4 = 19\n",
        "print(a)"
      ],
      "metadata": {
        "colab": {
          "base_uri": "https://localhost:8080/"
        },
        "id": "LKv6VlqtR8FP",
        "outputId": "25d8e191-066a-4d46-d008-930fa73745a5"
      },
      "execution_count": 20,
      "outputs": [
        {
          "output_type": "stream",
          "name": "stdout",
          "text": [
            "19\n"
          ]
        }
      ]
    },
    {
      "cell_type": "code",
      "source": [
        "a = \"A\"\n",
        "a += \"B\"\n",
        "print(a)"
      ],
      "metadata": {
        "colab": {
          "base_uri": "https://localhost:8080/"
        },
        "id": "FWFDrhJVSES_",
        "outputId": "38e10a66-05da-4bf0-ffd7-2b59dfbd6cad"
      },
      "execution_count": 21,
      "outputs": [
        {
          "output_type": "stream",
          "name": "stdout",
          "text": [
            "AB\n"
          ]
        }
      ]
    },
    {
      "cell_type": "code",
      "source": [
        "a = [1,2,3]\n",
        "a +=[5,6]\n",
        "print(a)"
      ],
      "metadata": {
        "colab": {
          "base_uri": "https://localhost:8080/"
        },
        "id": "APolKJAGSL_x",
        "outputId": "3ef28bc8-3f64-4fa1-e4f2-6677675f9aed"
      },
      "execution_count": 22,
      "outputs": [
        {
          "output_type": "stream",
          "name": "stdout",
          "text": [
            "[1, 2, 3, 5, 6]\n"
          ]
        }
      ]
    },
    {
      "cell_type": "code",
      "source": [
        "a = 10 # 10\n",
        "a = a - 2 # 10 - 2 = 8\n",
        "a = a - 3 # 8 - 3= 5\n",
        "a = a - 4 # 5 - 4 = 1\n",
        "print(a)"
      ],
      "metadata": {
        "colab": {
          "base_uri": "https://localhost:8080/"
        },
        "id": "a4i1KZpsSORw",
        "outputId": "c502b8c4-c248-435f-f917-d61b33b5281f"
      },
      "execution_count": 23,
      "outputs": [
        {
          "output_type": "stream",
          "name": "stdout",
          "text": [
            "1\n"
          ]
        }
      ]
    },
    {
      "cell_type": "code",
      "source": [
        "a = 10 # 10\n",
        "a -=2 # 10 - 2 = 8\n",
        "a -=3 # 8 - 3= 5\n",
        "a -=4 # 5 - 4 = 1\n",
        "print(a)"
      ],
      "metadata": {
        "colab": {
          "base_uri": "https://localhost:8080/"
        },
        "id": "6g_xcgbdSSSy",
        "outputId": "7b32ddc3-6d95-49e4-a74e-bdd543c5e03e"
      },
      "execution_count": 24,
      "outputs": [
        {
          "output_type": "stream",
          "name": "stdout",
          "text": [
            "1\n"
          ]
        }
      ]
    },
    {
      "cell_type": "code",
      "source": [
        "a = 10 # 10\n",
        "a *=2 # 10 * 2 = 20\n",
        "a *=3 # 20 * 3= 60\n",
        "a *=4 # 60 * 4 = 240\n",
        "print(a)"
      ],
      "metadata": {
        "colab": {
          "base_uri": "https://localhost:8080/"
        },
        "id": "tMUOIo7TSURc",
        "outputId": "b1042a96-63a3-4868-c38e-cce1c6f47a54"
      },
      "execution_count": 25,
      "outputs": [
        {
          "output_type": "stream",
          "name": "stdout",
          "text": [
            "240\n"
          ]
        }
      ]
    },
    {
      "cell_type": "code",
      "source": [
        "a = 2 # 10\n",
        "a **=2 # 2 ^ 2 = 4\n",
        "a **=3 # 4 ^ 3= 64\n",
        "a **=4 # 64 ^ 4 = 16777216\n",
        "print(a)"
      ],
      "metadata": {
        "colab": {
          "base_uri": "https://localhost:8080/"
        },
        "id": "V07kST9bSb1t",
        "outputId": "cdf630d4-048e-42df-fecb-91192e343bc5"
      },
      "execution_count": 26,
      "outputs": [
        {
          "output_type": "stream",
          "name": "stdout",
          "text": [
            "16777216\n"
          ]
        }
      ]
    },
    {
      "cell_type": "code",
      "source": [
        "a = 60 # 60\n",
        "a /=2 # 60 / 2 = 30.0\n",
        "a /=3 # 30.0 / 3= 10.0\n",
        "a /=4 # 10.0 / 4 = 2.5\n",
        "print(a)"
      ],
      "metadata": {
        "colab": {
          "base_uri": "https://localhost:8080/"
        },
        "id": "e2frbkDuSemy",
        "outputId": "e1d9fd38-44a8-4415-defa-c26b764346e7"
      },
      "execution_count": 27,
      "outputs": [
        {
          "output_type": "stream",
          "name": "stdout",
          "text": [
            "2.5\n"
          ]
        }
      ]
    },
    {
      "cell_type": "code",
      "source": [
        "a = 60 # 60\n",
        "a //=2 # 60 // 2 = 30 floor division\n",
        "a //=3 # 30 // 3= 10\n",
        "a //=4 # 10 // 4 = 2\n",
        "print(a)"
      ],
      "metadata": {
        "colab": {
          "base_uri": "https://localhost:8080/"
        },
        "id": "upMvybBRSibN",
        "outputId": "48acf8ec-8364-459a-cc1e-fa58053f98b9"
      },
      "execution_count": 28,
      "outputs": [
        {
          "output_type": "stream",
          "name": "stdout",
          "text": [
            "2\n"
          ]
        }
      ]
    },
    {
      "cell_type": "code",
      "source": [
        "a = 21\n",
        "a %= 5 # 21 % 5 = 1\n",
        "print(a)"
      ],
      "metadata": {
        "colab": {
          "base_uri": "https://localhost:8080/"
        },
        "id": "lypUaXyBSk_J",
        "outputId": "524e92b6-010b-49d9-be4b-d75696378e97"
      },
      "execution_count": 29,
      "outputs": [
        {
          "output_type": "stream",
          "name": "stdout",
          "text": [
            "1\n"
          ]
        }
      ]
    },
    {
      "cell_type": "markdown",
      "source": [
        "### Logical Operators\n",
        "       and  &\n",
        "       or   |\n",
        "       not  \n",
        "\n",
        "  Refernce: [Click Here]('https://upload.wikimedia.org/wikipedia/commons/4/4a/Truth_table_for_AND%2C_OR%2C_and_NOT.png\\'>)\n"
      ],
      "metadata": {
        "id": "dm1a8sqATVgF"
      }
    },
    {
      "cell_type": "code",
      "source": [
        "#AND\n",
        "user = input(\"UserName:\")\n",
        "password = input(\"Password\")\n",
        "# user == \"Admin\" and password == \"123\"\n",
        "(user == \"Admin\") & (password == \"123\")\n",
        "\n",
        "#\"Admin\" == \"Admin\" and \"123\" == \"123\"\n",
        "#       True         and       True\n",
        "#                   True\n",
        "\n",
        "#\"Admin\" == \"xxxxx\" and \"123\" == \"123\"\n",
        "#       False        and       True\n",
        "#                   False"
      ],
      "metadata": {
        "colab": {
          "base_uri": "https://localhost:8080/"
        },
        "id": "8WtqI7UeSwkI",
        "outputId": "20fef9b9-06a3-44a4-ad63-15b427376946"
      },
      "execution_count": 30,
      "outputs": [
        {
          "name": "stdout",
          "output_type": "stream",
          "text": [
            "UserName:Admin\n",
            "Password234\n"
          ]
        },
        {
          "output_type": "execute_result",
          "data": {
            "text/plain": [
              "False"
            ]
          },
          "metadata": {},
          "execution_count": 30
        }
      ]
    },
    {
      "cell_type": "code",
      "source": [
        "#If multiple user have same password\n",
        "user = input(\"UserName:\")\n",
        "password = input(\"Password\")\n",
        "# user == \"Admin\" and password == \"123\"\n",
        "(user == \"Haseeb\" or user== \"Ali\" or user == \"amir\") and password==\"123\"\n",
        "# (user == \"Haseeb\" or user== \"Ali\" or user == \"amir\") and \"123\" == \"123\"\n",
        "#       (True)         and       True\n",
        "#                   True\n",
        "\n",
        "# (user == \"Haseeb\" or user== \"Ali\" or user == \"amir\") and \"123\" == \"123\"\n",
        "#       (Fasle)         and       True\n",
        "#                   Fasle"
      ],
      "metadata": {
        "colab": {
          "base_uri": "https://localhost:8080/"
        },
        "id": "9suJwxtrWxQB",
        "outputId": "d3432e62-271a-4476-e668-870dc4b65074"
      },
      "execution_count": 32,
      "outputs": [
        {
          "name": "stdout",
          "output_type": "stream",
          "text": [
            "UserName:Ali\n",
            "Password123\n"
          ]
        },
        {
          "output_type": "execute_result",
          "data": {
            "text/plain": [
              "True"
            ]
          },
          "metadata": {},
          "execution_count": 32
        }
      ]
    },
    {
      "cell_type": "code",
      "source": [
        "#If multiple user have same password\n",
        "user = input(\"UserName:\")\n",
        "password = input(\"Password\")\n",
        "# user == \"Admin\" and password == \"123\"\n",
        "(user == \"Haseeb\" or \"Ali\" or \"amir\") and password==\"123\"\n",
        "# (user == \"Haseeb\" or user== \"Ali\" or user == \"amir\") and \"123\" == \"123\"\n",
        "#       (True)         and       True\n",
        "#                   True\n",
        "\n",
        "# (user == \"Haseeb\" or user== \"Ali\" or user == \"amir\") and \"123\" == \"123\"\n",
        "#       (Fasle)         and       True\n",
        "#                   Fasle"
      ],
      "metadata": {
        "colab": {
          "base_uri": "https://localhost:8080/"
        },
        "id": "2tBNqFjsW4Ho",
        "outputId": "a30266eb-5f69-4d90-c323-c956ccb6562d"
      },
      "execution_count": 33,
      "outputs": [
        {
          "name": "stdout",
          "output_type": "stream",
          "text": [
            "UserName:Haseeb\n",
            "Password123\n"
          ]
        },
        {
          "output_type": "execute_result",
          "data": {
            "text/plain": [
              "True"
            ]
          },
          "metadata": {},
          "execution_count": 33
        }
      ]
    },
    {
      "cell_type": "code",
      "source": [
        "not(True)"
      ],
      "metadata": {
        "colab": {
          "base_uri": "https://localhost:8080/"
        },
        "id": "AY3Ya0ngXO7U",
        "outputId": "fac4c1c0-876d-469e-ddad-5b38bf2ee6c0"
      },
      "execution_count": 34,
      "outputs": [
        {
          "output_type": "execute_result",
          "data": {
            "text/plain": [
              "False"
            ]
          },
          "metadata": {},
          "execution_count": 34
        }
      ]
    },
    {
      "cell_type": "code",
      "source": [
        "not(False)"
      ],
      "metadata": {
        "colab": {
          "base_uri": "https://localhost:8080/"
        },
        "id": "Vj6XRziyXYe9",
        "outputId": "610fa46d-4757-4f23-ca65-90ef63b713df"
      },
      "execution_count": 35,
      "outputs": [
        {
          "output_type": "execute_result",
          "data": {
            "text/plain": [
              "True"
            ]
          },
          "metadata": {},
          "execution_count": 35
        }
      ]
    },
    {
      "cell_type": "code",
      "source": [
        "user = \"a\"\n",
        "password = \"123\"\n",
        "\n",
        "not (user==\"Ali\" and password==\"123\")"
      ],
      "metadata": {
        "colab": {
          "base_uri": "https://localhost:8080/"
        },
        "id": "KwMmDQx5XaYt",
        "outputId": "bd27bc4c-28d5-43ed-bcde-2feb79836369"
      },
      "execution_count": 36,
      "outputs": [
        {
          "output_type": "execute_result",
          "data": {
            "text/plain": [
              "True"
            ]
          },
          "metadata": {},
          "execution_count": 36
        }
      ]
    },
    {
      "cell_type": "markdown",
      "source": [
        "### Bitwise Operators\n",
        "    Power:  8,  7,    6,    5,    4,    3,    2,    1,    0\n",
        "    Base:   2,  2,    2,    2,    2,    2,    2,    2,    2\n",
        "            ===============================================\n",
        "    Result: 256,128,  64,   32,  16,     8,    4,    2,   1\n",
        "\n",
        "    -->11001\n",
        "        1  = 1\n",
        "        0  = 0\n",
        "        0  = 0\n",
        "        1  = 8\n",
        "        1  = 16\n",
        "        25\n",
        "\n",
        "    likewise...\n",
        "       28=11100\n",
        "       29=11101\n",
        "       35=100011"
      ],
      "metadata": {
        "id": "cBvhiJwXZGss"
      }
    },
    {
      "cell_type": "code",
      "source": [
        "28 & 29"
      ],
      "metadata": {
        "colab": {
          "base_uri": "https://localhost:8080/"
        },
        "id": "byEs-A_CXe95",
        "outputId": "26f4471e-7af2-4b53-cbcd-bd720bb4711c"
      },
      "execution_count": 37,
      "outputs": [
        {
          "output_type": "execute_result",
          "data": {
            "text/plain": [
              "28"
            ]
          },
          "metadata": {},
          "execution_count": 37
        }
      ]
    },
    {
      "cell_type": "markdown",
      "source": [
        "     & / and (Sets each bit to 1 if both bits are 1)\n",
        "        28: 11100\n",
        "        29: 11101\n",
        "            ------\n",
        "            11100 ---> 28"
      ],
      "metadata": {
        "id": "X4oD2oQOaUZi"
      }
    },
    {
      "cell_type": "code",
      "source": [
        "28 | 29"
      ],
      "metadata": {
        "colab": {
          "base_uri": "https://localhost:8080/"
        },
        "id": "nzOP3HsJaBHk",
        "outputId": "8230e2ea-f3ed-4e49-82c3-27e255f01f1f"
      },
      "execution_count": 38,
      "outputs": [
        {
          "output_type": "execute_result",
          "data": {
            "text/plain": [
              "29"
            ]
          },
          "metadata": {},
          "execution_count": 38
        }
      ]
    },
    {
      "cell_type": "markdown",
      "source": [
        "    | / or (Sets each bit to 1 if one of two bits is 1)\n",
        "     28: 11100\n",
        "     29: 11101\n",
        "         ------\n",
        "         11101  ---> 29"
      ],
      "metadata": {
        "id": "FxwBpzaqaelq"
      }
    },
    {
      "cell_type": "code",
      "source": [
        " 28 ^ 29"
      ],
      "metadata": {
        "colab": {
          "base_uri": "https://localhost:8080/"
        },
        "id": "uCeo5x1BaazO",
        "outputId": "f55a0a7a-7498-4830-c6ac-2f01edf8ad18"
      },
      "execution_count": 39,
      "outputs": [
        {
          "output_type": "execute_result",
          "data": {
            "text/plain": [
              "1"
            ]
          },
          "metadata": {},
          "execution_count": 39
        }
      ]
    },
    {
      "cell_type": "markdown",
      "source": [
        "    ^ / XOR (Sets each bit to 1 if only one of two bits is 1)\n",
        "      28: 11100\n",
        "      29: 11101\n",
        "          ------\n",
        "          00001  ---> 1"
      ],
      "metadata": {
        "id": "k4htY7qMa7KM"
      }
    },
    {
      "cell_type": "code",
      "source": [
        "#    ~ / NOT (Inverts all the bits)\n",
        "~29"
      ],
      "metadata": {
        "colab": {
          "base_uri": "https://localhost:8080/"
        },
        "id": "fFgCxyi_a2cp",
        "outputId": "194c24b5-0e86-421f-d042-a283878d57e5"
      },
      "execution_count": 40,
      "outputs": [
        {
          "output_type": "execute_result",
          "data": {
            "text/plain": [
              "-30"
            ]
          },
          "metadata": {},
          "execution_count": 40
        }
      ]
    },
    {
      "cell_type": "markdown",
      "source": [
        "### Membership Operators\n",
        "    --> in\n",
        "    --> not in"
      ],
      "metadata": {
        "id": "f1WWcQjNbZ3O"
      }
    },
    {
      "cell_type": "code",
      "source": [
        "#If we Dont have IN operator or if we don't use IN operator\n",
        "names = [\"Ali\",\"Haseeb\",\"Junaid\",\"Kashif\"]\n",
        "i = 0\n",
        "while i < len(names):\n",
        "    if names[i]==\"Haseeb\":\n",
        "        print(True)\n",
        "        break\n",
        "    i +=1\n",
        ""
      ],
      "metadata": {
        "colab": {
          "base_uri": "https://localhost:8080/"
        },
        "id": "7BlmGZ_EbLXK",
        "outputId": "ef735cbc-865c-4017-dca5-eee27e582369"
      },
      "execution_count": 41,
      "outputs": [
        {
          "output_type": "stream",
          "name": "stdout",
          "text": [
            "True\n"
          ]
        }
      ]
    },
    {
      "cell_type": "code",
      "source": [
        "names = [\"Ali\",\"Haseeb\",\"Junaid\",\"Kashif\"]\n",
        "\"Haseeb\" in names"
      ],
      "metadata": {
        "colab": {
          "base_uri": "https://localhost:8080/"
        },
        "id": "J25bg-FhdOGs",
        "outputId": "454e1a7e-2f4a-4370-b786-49ed59d7a6bd"
      },
      "execution_count": 42,
      "outputs": [
        {
          "output_type": "execute_result",
          "data": {
            "text/plain": [
              "True"
            ]
          },
          "metadata": {},
          "execution_count": 42
        }
      ]
    },
    {
      "cell_type": "code",
      "source": [
        "user = input(\"Text: \")\n",
        "'apple' in user"
      ],
      "metadata": {
        "colab": {
          "base_uri": "https://localhost:8080/"
        },
        "id": "Pl0T38ZcdWVp",
        "outputId": "5af417fb-2d61-4c1f-d6e6-ea036524779a"
      },
      "execution_count": 43,
      "outputs": [
        {
          "name": "stdout",
          "output_type": "stream",
          "text": [
            "Text: my favorite fruit is apple\n"
          ]
        },
        {
          "output_type": "execute_result",
          "data": {
            "text/plain": [
              "True"
            ]
          },
          "metadata": {},
          "execution_count": 43
        }
      ]
    },
    {
      "cell_type": "markdown",
      "source": [
        "### Identity Operators\n",
        "    --> id\n",
        "    --> is"
      ],
      "metadata": {
        "id": "HfdOpnPXds8O"
      }
    },
    {
      "cell_type": "code",
      "source": [
        "a = '5'\n",
        "b = 5\n",
        "c = a\n",
        "\n",
        "print(a is b)\n",
        "print(a is c)\n",
        "# How \"is\" keyword return TRUE if value's are same...\n",
        "# Reason of \"is\" to return True if value's are same...\n",
        "# if the value is same then the id of variable's in which value store will also same..."
      ],
      "metadata": {
        "colab": {
          "base_uri": "https://localhost:8080/"
        },
        "id": "WwbAR7-8dhFB",
        "outputId": "01619c40-7cfe-4840-877d-1a6ea58e8e85"
      },
      "execution_count": 44,
      "outputs": [
        {
          "output_type": "stream",
          "name": "stdout",
          "text": [
            "False\n",
            "True\n"
          ]
        }
      ]
    },
    {
      "cell_type": "code",
      "source": [
        "print(id(a))\n",
        "print(id(b))\n",
        "print(id(c))\n",
        "id(a) == id(c)"
      ],
      "metadata": {
        "colab": {
          "base_uri": "https://localhost:8080/"
        },
        "id": "dBR7lVpPeDvq",
        "outputId": "e4160d1a-f8fa-43ca-f2c3-5a4be6a99503"
      },
      "execution_count": 45,
      "outputs": [
        {
          "output_type": "stream",
          "name": "stdout",
          "text": [
            "10794432\n",
            "10750984\n",
            "10794432\n"
          ]
        },
        {
          "output_type": "execute_result",
          "data": {
            "text/plain": [
              "True"
            ]
          },
          "metadata": {},
          "execution_count": 45
        }
      ]
    },
    {
      "cell_type": "markdown",
      "source": [
        "### PE M/D A/S\n",
        "    parenthesis, exponents, multiplication, division, addition, subtraction"
      ],
      "metadata": {
        "id": "YjtVfqw2eLT5"
      }
    },
    {
      "cell_type": "code",
      "source": [
        "4+8-7*(5**2)/3*2+7\n",
        "# 4+8-7*(25)/3*2+7\n",
        "# 4+8-(175)/3*2+7\n",
        "# 4+8-58.33*2+7\n",
        "# 4+8-116.66+7\n",
        "# 12-116.66+7\n",
        "# -97.66"
      ],
      "metadata": {
        "colab": {
          "base_uri": "https://localhost:8080/"
        },
        "id": "5t9uZnaYeF1G",
        "outputId": "23a94284-191b-4b08-804b-324971e2b652"
      },
      "execution_count": 46,
      "outputs": [
        {
          "output_type": "execute_result",
          "data": {
            "text/plain": [
              "-97.66666666666667"
            ]
          },
          "metadata": {},
          "execution_count": 46
        }
      ]
    },
    {
      "cell_type": "code",
      "source": [
        "# Next Control FLow ..."
      ],
      "metadata": {
        "id": "Iu-KJcD7eU44"
      },
      "execution_count": 47,
      "outputs": []
    }
  ]
}