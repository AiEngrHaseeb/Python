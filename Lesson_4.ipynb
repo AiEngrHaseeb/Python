{
  "nbformat": 4,
  "nbformat_minor": 0,
  "metadata": {
    "colab": {
      "provenance": [],
      "authorship_tag": "ABX9TyOG8I2enGfkOcNkdP7h4f++"
    },
    "kernelspec": {
      "name": "python3",
      "display_name": "Python 3"
    },
    "language_info": {
      "name": "python"
    }
  },
  "cells": [
    {
      "cell_type": "markdown",
      "source": [
        "**Control Flow**\n",
        "\n",
        "    if, else & elif\n",
        "\n",
        "**OTHER Languages:**\n",
        "\n",
        "    if (logic){ value_if_True } else{ value_if_False }\n",
        "\n",
        "**PYTHON:**\n",
        "\n",
        "    if logic:\n",
        "        value_if_True\n",
        "    else:\n",
        "        value_if_False"
      ],
      "metadata": {
        "id": "Q5nBXd3EE2d3"
      }
    },
    {
      "cell_type": "code",
      "execution_count": 2,
      "metadata": {
        "colab": {
          "base_uri": "https://localhost:8080/"
        },
        "id": "xkuLg4VWD7UF",
        "outputId": "706733d7-b045-4d0c-edeb-29f921f694e1"
      },
      "outputs": [
        {
          "output_type": "stream",
          "name": "stdout",
          "text": [
            "Hello\n"
          ]
        }
      ],
      "source": [
        "if True:\n",
        "    print(\"Hello\")\n",
        "else:\n",
        "    print(\"World\")"
      ]
    },
    {
      "cell_type": "code",
      "source": [
        "if False:\n",
        "    print(\"Hello\")\n",
        "else:\n",
        "    print(\"World\")"
      ],
      "metadata": {
        "colab": {
          "base_uri": "https://localhost:8080/"
        },
        "id": "aIlfZ4LVF1zl",
        "outputId": "f14914e3-aae1-4468-bd2a-d616e10f5c19"
      },
      "execution_count": 3,
      "outputs": [
        {
          "output_type": "stream",
          "name": "stdout",
          "text": [
            "World\n"
          ]
        }
      ]
    },
    {
      "cell_type": "code",
      "source": [
        "x = int(input(\"Please enter an integer: \"))\n",
        "\n",
        "if x < 0:\n",
        "    x = 0\n",
        "    print('Negative changed to zero')\n",
        "elif x == 0:\n",
        "    print('Zero')\n",
        "elif x == 1:\n",
        "    print('Single')\n",
        "else:\n",
        "    print('More')"
      ],
      "metadata": {
        "colab": {
          "base_uri": "https://localhost:8080/"
        },
        "id": "-rl1gWo6GGD5",
        "outputId": "3437b38d-6db1-4855-ce71-d098d68117dd"
      },
      "execution_count": 4,
      "outputs": [
        {
          "output_type": "stream",
          "name": "stdout",
          "text": [
            "Please enter an integer: 5\n",
            "More\n"
          ]
        }
      ]
    },
    {
      "cell_type": "code",
      "source": [
        "user = input(\"User: \")\n",
        "password = input(\"Pass: \")\n",
        "\n",
        "if (user==\"Aslam\" or user==\"Haseeb\") and password==\"123\":\n",
        "    print(\"Valid User!\")\n",
        "else:\n",
        "    print(\"Invalid User\")"
      ],
      "metadata": {
        "colab": {
          "base_uri": "https://localhost:8080/"
        },
        "id": "m26w6Dn6GPL0",
        "outputId": "0f3c3dc6-f9e5-406d-c0b1-c1c1f27d8a67"
      },
      "execution_count": 5,
      "outputs": [
        {
          "output_type": "stream",
          "name": "stdout",
          "text": [
            "User: Haseeb\n",
            "Pass: 123\n",
            "Valid User!\n"
          ]
        }
      ]
    },
    {
      "cell_type": "code",
      "source": [
        "user = input(\"User: \")\n",
        "password = input(\"Pass: \")\n",
        "\n",
        "if (user in ['amir',\"umair\",\"haseeb\"]) and password==\"123\":\n",
        "    print(\"Valid User!\")\n",
        "else:\n",
        "    print(\"Invalid User\")"
      ],
      "metadata": {
        "colab": {
          "base_uri": "https://localhost:8080/"
        },
        "id": "zq4iqE7fGeV5",
        "outputId": "5a615af2-f09e-4a68-9b01-95d118b1ae05"
      },
      "execution_count": 6,
      "outputs": [
        {
          "output_type": "stream",
          "name": "stdout",
          "text": [
            "User: amir\n",
            "Pass: 123\n",
            "Valid User!\n"
          ]
        }
      ]
    },
    {
      "cell_type": "markdown",
      "source": [
        "**Loop**\n",
        "\n",
        "    1) While\n",
        "    2) For statement\n",
        "\n",
        "    1) While\n",
        "        Counter\n",
        "        Logic\n",
        "        Increment / Decrement"
      ],
      "metadata": {
        "id": "rdfF3bUeHHed"
      }
    },
    {
      "cell_type": "code",
      "source": [
        "counter = 1 # Counter\n",
        "\n",
        "while counter <= 10: #Logic\n",
        "    print(\"line no\",counter)\n",
        "    counter += 1 # Increment"
      ],
      "metadata": {
        "colab": {
          "base_uri": "https://localhost:8080/"
        },
        "id": "v50o4IIEG64p",
        "outputId": "02bb8c51-f6f6-4766-e05c-ea324276caff"
      },
      "execution_count": 7,
      "outputs": [
        {
          "output_type": "stream",
          "name": "stdout",
          "text": [
            "line no 1\n",
            "line no 2\n",
            "line no 3\n",
            "line no 4\n",
            "line no 5\n",
            "line no 6\n",
            "line no 7\n",
            "line no 8\n",
            "line no 9\n",
            "line no 10\n"
          ]
        }
      ]
    },
    {
      "cell_type": "code",
      "source": [
        "counter = 10 #counter\n",
        "while counter>=1: #logic\n",
        "    print(\"line no\", counter)\n",
        "    counter -= 1 # Decrement"
      ],
      "metadata": {
        "colab": {
          "base_uri": "https://localhost:8080/"
        },
        "id": "J3FblHvNHplV",
        "outputId": "4c613f67-c224-49a0-ba7b-2e10082584fe"
      },
      "execution_count": 8,
      "outputs": [
        {
          "output_type": "stream",
          "name": "stdout",
          "text": [
            "line no 10\n",
            "line no 9\n",
            "line no 8\n",
            "line no 7\n",
            "line no 6\n",
            "line no 5\n",
            "line no 4\n",
            "line no 3\n",
            "line no 2\n",
            "line no 1\n"
          ]
        }
      ]
    },
    {
      "cell_type": "markdown",
      "source": [
        "**for Loop**"
      ],
      "metadata": {
        "id": "pH_BkrMiH2eP"
      }
    },
    {
      "cell_type": "code",
      "source": [
        "# print each strings of list:\n",
        "words = ['cat', 'window', 'defenestrate']\n",
        "for word in words:\n",
        "  print (word)"
      ],
      "metadata": {
        "colab": {
          "base_uri": "https://localhost:8080/"
        },
        "id": "8snw-Wj4HxUE",
        "outputId": "10384ec3-b9f8-4b82-b12e-565733ef83cf"
      },
      "execution_count": 10,
      "outputs": [
        {
          "output_type": "stream",
          "name": "stdout",
          "text": [
            "cat\n",
            "window\n",
            "defenestrate\n"
          ]
        }
      ]
    },
    {
      "cell_type": "code",
      "source": [
        "# print each strings of list:\n",
        "words = ['cat', 'window', 'defenestrate']\n",
        "for word in words:\n",
        "  print (word, len(word))"
      ],
      "metadata": {
        "colab": {
          "base_uri": "https://localhost:8080/"
        },
        "id": "GEEbBcJnH9f1",
        "outputId": "705e5962-f614-46e4-93fc-f48af5619037"
      },
      "execution_count": 11,
      "outputs": [
        {
          "output_type": "stream",
          "name": "stdout",
          "text": [
            "cat 3\n",
            "window 6\n",
            "defenestrate 12\n"
          ]
        }
      ]
    },
    {
      "cell_type": "markdown",
      "source": [
        "**Range Function**\n",
        "\n",
        "    arange(5, 10) ---> 5, 6, 7, 8, 9\n",
        "\n",
        "    range(0, 10, 3) ---> 0, 3, 6, 9\n",
        "\n",
        "    range(-10, -100, -30) ---> -10, -40, -70"
      ],
      "metadata": {
        "id": "cKWrU6OTIXD0"
      }
    },
    {
      "cell_type": "code",
      "source": [
        "range(-10, -100, -30)"
      ],
      "metadata": {
        "colab": {
          "base_uri": "https://localhost:8080/"
        },
        "id": "CYw65FQrILGz",
        "outputId": "c48ac0e9-8b56-4847-870f-17374a9664e2"
      },
      "execution_count": 14,
      "outputs": [
        {
          "output_type": "execute_result",
          "data": {
            "text/plain": [
              "range(-10, -100, -30)"
            ]
          },
          "metadata": {},
          "execution_count": 14
        }
      ]
    },
    {
      "cell_type": "code",
      "source": [
        "for i in range(5):\n",
        "  print(i)"
      ],
      "metadata": {
        "colab": {
          "base_uri": "https://localhost:8080/"
        },
        "id": "B247vvUNImdI",
        "outputId": "54017250-cd37-4e47-dbee-a15f04848ad2"
      },
      "execution_count": 16,
      "outputs": [
        {
          "output_type": "stream",
          "name": "stdout",
          "text": [
            "0\n",
            "1\n",
            "2\n",
            "3\n",
            "4\n"
          ]
        }
      ]
    },
    {
      "cell_type": "code",
      "source": [
        "a = ['Mary', 'had', 'a', 'little', 'lamb']\n",
        "for i in a:\n",
        "  print(i)"
      ],
      "metadata": {
        "colab": {
          "base_uri": "https://localhost:8080/"
        },
        "id": "1X7y0G_mIwoK",
        "outputId": "62ad8e4d-e99c-481a-b911-4c932fda173d"
      },
      "execution_count": 18,
      "outputs": [
        {
          "output_type": "stream",
          "name": "stdout",
          "text": [
            "Mary\n",
            "had\n",
            "a\n",
            "little\n",
            "lamb\n"
          ]
        }
      ]
    },
    {
      "cell_type": "code",
      "source": [
        "a = ['Mary', 'had', 'a', 'little', 'lamb']\n",
        "for i in range(len(a)):\n",
        "  print(i, a[i])"
      ],
      "metadata": {
        "colab": {
          "base_uri": "https://localhost:8080/"
        },
        "id": "xjRZhtpHI10W",
        "outputId": "561f4954-83ea-44cc-fea8-f7beaedd64b6"
      },
      "execution_count": 19,
      "outputs": [
        {
          "output_type": "stream",
          "name": "stdout",
          "text": [
            "0 Mary\n",
            "1 had\n",
            "2 a\n",
            "3 little\n",
            "4 lamb\n"
          ]
        }
      ]
    },
    {
      "cell_type": "code",
      "source": [
        "sum(range(4))"
      ],
      "metadata": {
        "colab": {
          "base_uri": "https://localhost:8080/"
        },
        "id": "EHEeBlqiJPKP",
        "outputId": "25771ee5-c8d9-48e7-c605-3f474b5d9c4a"
      },
      "execution_count": 20,
      "outputs": [
        {
          "output_type": "execute_result",
          "data": {
            "text/plain": [
              "6"
            ]
          },
          "metadata": {},
          "execution_count": 20
        }
      ]
    },
    {
      "cell_type": "code",
      "source": [
        "list(range(4))"
      ],
      "metadata": {
        "colab": {
          "base_uri": "https://localhost:8080/"
        },
        "id": "9j2RFR2xJV40",
        "outputId": "16d655d1-9003-4912-ef72-3f01c38c9420"
      },
      "execution_count": 21,
      "outputs": [
        {
          "output_type": "execute_result",
          "data": {
            "text/plain": [
              "[0, 1, 2, 3]"
            ]
          },
          "metadata": {},
          "execution_count": 21
        }
      ]
    },
    {
      "cell_type": "code",
      "source": [
        "\n",
        "for i in range(1,11):\n",
        "    #print(2,\"X\",i,\"=\",i*2)\n",
        "    #print(\"2 X \"+str(i)+\" = \"+str(i*2))\n",
        "    print(f\"2 X {i} = {i*2}\") #string formatting"
      ],
      "metadata": {
        "colab": {
          "base_uri": "https://localhost:8080/"
        },
        "id": "Ltp46ZMjJbR_",
        "outputId": "c16e1f1d-d683-4660-af96-f71b0dccccdf"
      },
      "execution_count": 22,
      "outputs": [
        {
          "output_type": "stream",
          "name": "stdout",
          "text": [
            "2 X 1 = 2\n",
            "2 X 2 = 4\n",
            "2 X 3 = 6\n",
            "2 X 4 = 8\n",
            "2 X 5 = 10\n",
            "2 X 6 = 12\n",
            "2 X 7 = 14\n",
            "2 X 8 = 16\n",
            "2 X 9 = 18\n",
            "2 X 10 = 20\n"
          ]
        }
      ]
    },
    {
      "cell_type": "code",
      "source": [
        "for i in range(10,0,-1):\n",
        "    #print(2,\"X\",i,\"=\",i*2)\n",
        "    #print(\"2 X \"+str(i)+\" = \"+str(i*2))\n",
        "    print(f\"2 X {i} = {i*2}\") #string formatting"
      ],
      "metadata": {
        "colab": {
          "base_uri": "https://localhost:8080/"
        },
        "id": "7f40ONp0Jkj1",
        "outputId": "97b9e942-eb7c-4924-c373-ed8e432a80ad"
      },
      "execution_count": 24,
      "outputs": [
        {
          "output_type": "stream",
          "name": "stdout",
          "text": [
            "2 X 10 = 20\n",
            "2 X 9 = 18\n",
            "2 X 8 = 16\n",
            "2 X 7 = 14\n",
            "2 X 6 = 12\n",
            "2 X 5 = 10\n",
            "2 X 4 = 8\n",
            "2 X 3 = 6\n",
            "2 X 2 = 4\n",
            "2 X 1 = 2\n"
          ]
        }
      ]
    },
    {
      "cell_type": "code",
      "source": [
        "#user = int(input(\"Enter no\"))\n",
        "user = int(input(\"Enter no for table: \")) # by default input will be in string\n",
        "for a in range(1,user+1):\n",
        "  print(f\"Table of {a} : \")\n",
        "  for b in range(1,11):\n",
        "    print(f\"{a} X {b} = {a*b}\")\n",
        "  print(\"\\n\")"
      ],
      "metadata": {
        "colab": {
          "base_uri": "https://localhost:8080/"
        },
        "id": "NvcrFIOMJuFi",
        "outputId": "37a00c3b-9f4a-44d0-ecaa-62367d570ea5"
      },
      "execution_count": 28,
      "outputs": [
        {
          "output_type": "stream",
          "name": "stdout",
          "text": [
            "Enter no for table: 4\n",
            "Table of 1 : \n",
            "1 X 1 = 1\n",
            "1 X 2 = 2\n",
            "1 X 3 = 3\n",
            "1 X 4 = 4\n",
            "1 X 5 = 5\n",
            "1 X 6 = 6\n",
            "1 X 7 = 7\n",
            "1 X 8 = 8\n",
            "1 X 9 = 9\n",
            "1 X 10 = 10\n",
            "\n",
            "\n",
            "Table of 2 : \n",
            "2 X 1 = 2\n",
            "2 X 2 = 4\n",
            "2 X 3 = 6\n",
            "2 X 4 = 8\n",
            "2 X 5 = 10\n",
            "2 X 6 = 12\n",
            "2 X 7 = 14\n",
            "2 X 8 = 16\n",
            "2 X 9 = 18\n",
            "2 X 10 = 20\n",
            "\n",
            "\n",
            "Table of 3 : \n",
            "3 X 1 = 3\n",
            "3 X 2 = 6\n",
            "3 X 3 = 9\n",
            "3 X 4 = 12\n",
            "3 X 5 = 15\n",
            "3 X 6 = 18\n",
            "3 X 7 = 21\n",
            "3 X 8 = 24\n",
            "3 X 9 = 27\n",
            "3 X 10 = 30\n",
            "\n",
            "\n",
            "Table of 4 : \n",
            "4 X 1 = 4\n",
            "4 X 2 = 8\n",
            "4 X 3 = 12\n",
            "4 X 4 = 16\n",
            "4 X 5 = 20\n",
            "4 X 6 = 24\n",
            "4 X 7 = 28\n",
            "4 X 8 = 32\n",
            "4 X 9 = 36\n",
            "4 X 10 = 40\n",
            "\n",
            "\n"
          ]
        }
      ]
    },
    {
      "cell_type": "code",
      "source": [
        "#user = int(input(\"Enter no\"))\n",
        "user = int(input(\"Enter no for table: \")) # by default input will be in string\n",
        "for b in range(1,11):\n",
        "  for a in range(1,user+1):\n",
        "    print(f\"{a} X {b} = {a*b}\", end=\"\\t\")\n",
        "  print(\"\")"
      ],
      "metadata": {
        "colab": {
          "base_uri": "https://localhost:8080/"
        },
        "id": "n5TyFPcOKjks",
        "outputId": "9a9c5b78-a9d4-40b6-9772-9c4289a7e904"
      },
      "execution_count": 41,
      "outputs": [
        {
          "output_type": "stream",
          "name": "stdout",
          "text": [
            "Enter no for table: 3\n",
            "1 X 1 = 1\t2 X 1 = 2\t3 X 1 = 3\t\n",
            "1 X 2 = 2\t2 X 2 = 4\t3 X 2 = 6\t\n",
            "1 X 3 = 3\t2 X 3 = 6\t3 X 3 = 9\t\n",
            "1 X 4 = 4\t2 X 4 = 8\t3 X 4 = 12\t\n",
            "1 X 5 = 5\t2 X 5 = 10\t3 X 5 = 15\t\n",
            "1 X 6 = 6\t2 X 6 = 12\t3 X 6 = 18\t\n",
            "1 X 7 = 7\t2 X 7 = 14\t3 X 7 = 21\t\n",
            "1 X 8 = 8\t2 X 8 = 16\t3 X 8 = 24\t\n",
            "1 X 9 = 9\t2 X 9 = 18\t3 X 9 = 27\t\n",
            "1 X 10 = 10\t2 X 10 = 20\t3 X 10 = 30\t\n"
          ]
        }
      ]
    },
    {
      "cell_type": "code",
      "source": [
        "# Task\n",
        "# Make a table which ask user how many table you want to draw and also the ending point.\n",
        "uc = int(input(\"Enter Table no: \"))\n",
        "ur = int(input(\"Enter Last value: \"))\n",
        "\n",
        "for r in range(1,ur+1):\n",
        "    for c in range(1, uc+1):\n",
        "        print(f\"{c} X {r} = {c*r}\", end=\"\\t\")\n",
        "    print()"
      ],
      "metadata": {
        "colab": {
          "base_uri": "https://localhost:8080/"
        },
        "id": "WT1ZnDEpLJmH",
        "outputId": "46ba22e4-3956-46e1-8f4d-d8ecafbcd2db"
      },
      "execution_count": 42,
      "outputs": [
        {
          "output_type": "stream",
          "name": "stdout",
          "text": [
            "Enter Table no: 4\n",
            "Enter Last value: 5\n",
            "1 X 1 = 1\t2 X 1 = 2\t3 X 1 = 3\t4 X 1 = 4\t\n",
            "1 X 2 = 2\t2 X 2 = 4\t3 X 2 = 6\t4 X 2 = 8\t\n",
            "1 X 3 = 3\t2 X 3 = 6\t3 X 3 = 9\t4 X 3 = 12\t\n",
            "1 X 4 = 4\t2 X 4 = 8\t3 X 4 = 12\t4 X 4 = 16\t\n",
            "1 X 5 = 5\t2 X 5 = 10\t3 X 5 = 15\t4 X 5 = 20\t\n"
          ]
        }
      ]
    },
    {
      "cell_type": "markdown",
      "source": [
        "**break and continue Statements, and else Clauses on Loops**"
      ],
      "metadata": {
        "id": "VE6LG2LkOuUH"
      }
    },
    {
      "cell_type": "code",
      "source": [
        "for n in range(2, 10):\n",
        "    for x in range(2, n):\n",
        "        if n % x == 0:\n",
        "            print(n, 'equals', x, '*', n//x)\n",
        "            break\n",
        "    else:\n",
        "        # loop fell through without finding a factor\n",
        "        print(n, 'is a prime number')"
      ],
      "metadata": {
        "colab": {
          "base_uri": "https://localhost:8080/"
        },
        "id": "w9ZNaBKAM6M_",
        "outputId": "3dc1a33d-2baf-4f0b-f9a1-0f0754237b4f"
      },
      "execution_count": 43,
      "outputs": [
        {
          "output_type": "stream",
          "name": "stdout",
          "text": [
            "2 is a prime number\n",
            "3 is a prime number\n",
            "4 equals 2 * 2\n",
            "5 is a prime number\n",
            "6 equals 2 * 3\n",
            "7 is a prime number\n",
            "8 equals 2 * 4\n",
            "9 equals 3 * 3\n"
          ]
        }
      ]
    },
    {
      "cell_type": "code",
      "source": [
        "for num in range(2, 10):\n",
        "    if num % 2 == 0:\n",
        "        print(\"Found an even number\", num)\n",
        "        continue\n",
        "    print(\"Found an odd number\", num)"
      ],
      "metadata": {
        "colab": {
          "base_uri": "https://localhost:8080/"
        },
        "id": "5W1MZoxJOnyf",
        "outputId": "2043d253-ccac-4d0a-eed2-95bd8be92f40"
      },
      "execution_count": 44,
      "outputs": [
        {
          "output_type": "stream",
          "name": "stdout",
          "text": [
            "Found an even number 2\n",
            "Found an odd number 3\n",
            "Found an even number 4\n",
            "Found an odd number 5\n",
            "Found an even number 6\n",
            "Found an odd number 7\n",
            "Found an even number 8\n",
            "Found an odd number 9\n"
          ]
        }
      ]
    },
    {
      "cell_type": "markdown",
      "source": [
        "**Pass statements**\n",
        "\n",
        "The pass statement does nothing. It can be used when a statement is required syntactically but the program requires no action."
      ],
      "metadata": {
        "id": "PMz8dCFsOxxa"
      }
    },
    {
      "cell_type": "code",
      "source": [
        "while True:\n",
        "    pass  # Busy-wait for keyboard interrupt (Ctrl+C)"
      ],
      "metadata": {
        "id": "oWyE15uWO33B"
      },
      "execution_count": null,
      "outputs": []
    },
    {
      "cell_type": "code",
      "source": [
        "class MyEmptyClass:\n",
        "    pass"
      ],
      "metadata": {
        "id": "L1u_twZxPA_y"
      },
      "execution_count": null,
      "outputs": []
    },
    {
      "cell_type": "code",
      "source": [
        "def initlog(*args):\n",
        "    pass   # Remember to implement this!"
      ],
      "metadata": {
        "id": "R74FamHmPDXM"
      },
      "execution_count": null,
      "outputs": []
    }
  ]
}