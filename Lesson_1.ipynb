{
  "nbformat": 4,
  "nbformat_minor": 0,
  "metadata": {
    "colab": {
      "provenance": [],
      "authorship_tag": "ABX9TyNHNDSHopm9irbV86IgEw8g"
    },
    "kernelspec": {
      "name": "python3",
      "display_name": "Python 3"
    },
    "language_info": {
      "name": "python"
    }
  },
  "cells": [
    {
      "cell_type": "markdown",
      "source": [
        "## Python Variables"
      ],
      "metadata": {
        "id": "SfmPqdYvFE_V"
      }
    },
    {
      "cell_type": "code",
      "source": [
        "a = 0\n",
        "b = 2\n",
        "print(a,b,a+b)"
      ],
      "metadata": {
        "id": "qjb_bqMuD-W4",
        "colab": {
          "base_uri": "https://localhost:8080/"
        },
        "outputId": "c3db4416-820c-4083-8858-a369ac2fc2c2"
      },
      "execution_count": 54,
      "outputs": [
        {
          "output_type": "stream",
          "name": "stdout",
          "text": [
            "0 2 2\n"
          ]
        }
      ]
    },
    {
      "cell_type": "code",
      "source": [
        "a = \"0\"\n",
        "b = \"2\"\n",
        "print(a,b,a+b)"
      ],
      "metadata": {
        "colab": {
          "base_uri": "https://localhost:8080/"
        },
        "id": "LXYvi4HdFDxz",
        "outputId": "7eb07b8a-e00d-4a1b-8bf0-68b698532ae6"
      },
      "execution_count": 55,
      "outputs": [
        {
          "output_type": "stream",
          "name": "stdout",
          "text": [
            "0 2 02\n"
          ]
        }
      ]
    },
    {
      "cell_type": "code",
      "source": [
        "a = \"0\"\n",
        "b = 2\n",
        "print(a,b,a+b)"
      ],
      "metadata": {
        "colab": {
          "base_uri": "https://localhost:8080/",
          "height": 176
        },
        "id": "igsQEbYtF8TJ",
        "outputId": "53a54453-c883-416a-a213-22bf1bc660d8"
      },
      "execution_count": 56,
      "outputs": [
        {
          "output_type": "error",
          "ename": "TypeError",
          "evalue": "can only concatenate str (not \"int\") to str",
          "traceback": [
            "\u001b[0;31m---------------------------------------------------------------------------\u001b[0m",
            "\u001b[0;31mTypeError\u001b[0m                                 Traceback (most recent call last)",
            "\u001b[0;32m<ipython-input-56-fcd1104e29ad>\u001b[0m in \u001b[0;36m<cell line: 0>\u001b[0;34m()\u001b[0m\n\u001b[1;32m      1\u001b[0m \u001b[0ma\u001b[0m \u001b[0;34m=\u001b[0m \u001b[0;34m\"0\"\u001b[0m\u001b[0;34m\u001b[0m\u001b[0;34m\u001b[0m\u001b[0m\n\u001b[1;32m      2\u001b[0m \u001b[0mb\u001b[0m \u001b[0;34m=\u001b[0m \u001b[0;36m2\u001b[0m\u001b[0;34m\u001b[0m\u001b[0;34m\u001b[0m\u001b[0m\n\u001b[0;32m----> 3\u001b[0;31m \u001b[0mprint\u001b[0m\u001b[0;34m(\u001b[0m\u001b[0ma\u001b[0m\u001b[0;34m,\u001b[0m\u001b[0mb\u001b[0m\u001b[0;34m,\u001b[0m\u001b[0ma\u001b[0m\u001b[0;34m+\u001b[0m\u001b[0mb\u001b[0m\u001b[0;34m)\u001b[0m\u001b[0;34m\u001b[0m\u001b[0;34m\u001b[0m\u001b[0m\n\u001b[0m",
            "\u001b[0;31mTypeError\u001b[0m: can only concatenate str (not \"int\") to str"
          ]
        }
      ]
    },
    {
      "cell_type": "markdown",
      "source": [
        "###### to avoid this aforementioned we do have type casting"
      ],
      "metadata": {
        "id": "5kS8418sGEEp"
      }
    },
    {
      "cell_type": "code",
      "source": [
        "a = \"0\"\n",
        "b = 2\n",
        "print(int(a),b,int(a)+b)\n",
        "print(type(a), type(b))"
      ],
      "metadata": {
        "colab": {
          "base_uri": "https://localhost:8080/"
        },
        "id": "OOxPL1bsF_PR",
        "outputId": "3244184e-119b-47df-8f3a-785d12011da8"
      },
      "execution_count": 61,
      "outputs": [
        {
          "output_type": "stream",
          "name": "stdout",
          "text": [
            "0 2 2\n",
            "<class 'str'> <class 'int'>\n"
          ]
        }
      ]
    },
    {
      "cell_type": "code",
      "source": [
        "a = \"0\"\n",
        "b = 2\n",
        "int(a) # can we change data type through this method, answer > Result (Error > No)\n",
        "print(a,b,a+b)"
      ],
      "metadata": {
        "colab": {
          "base_uri": "https://localhost:8080/",
          "height": 176
        },
        "id": "dXnnmu4JGhnR",
        "outputId": "edbde599-5127-48cd-9690-fd1aba8dc6c0"
      },
      "execution_count": 62,
      "outputs": [
        {
          "output_type": "error",
          "ename": "TypeError",
          "evalue": "can only concatenate str (not \"int\") to str",
          "traceback": [
            "\u001b[0;31m---------------------------------------------------------------------------\u001b[0m",
            "\u001b[0;31mTypeError\u001b[0m                                 Traceback (most recent call last)",
            "\u001b[0;32m<ipython-input-62-b98ea9edd8ba>\u001b[0m in \u001b[0;36m<cell line: 0>\u001b[0;34m()\u001b[0m\n\u001b[1;32m      2\u001b[0m \u001b[0mb\u001b[0m \u001b[0;34m=\u001b[0m \u001b[0;36m2\u001b[0m\u001b[0;34m\u001b[0m\u001b[0;34m\u001b[0m\u001b[0m\n\u001b[1;32m      3\u001b[0m \u001b[0mint\u001b[0m\u001b[0;34m(\u001b[0m\u001b[0ma\u001b[0m\u001b[0;34m)\u001b[0m \u001b[0;31m# can we change data type through this method, answer > Result (Error > No)\u001b[0m\u001b[0;34m\u001b[0m\u001b[0;34m\u001b[0m\u001b[0m\n\u001b[0;32m----> 4\u001b[0;31m \u001b[0mprint\u001b[0m\u001b[0;34m(\u001b[0m\u001b[0ma\u001b[0m\u001b[0;34m,\u001b[0m\u001b[0mb\u001b[0m\u001b[0;34m,\u001b[0m\u001b[0ma\u001b[0m\u001b[0;34m+\u001b[0m\u001b[0mb\u001b[0m\u001b[0;34m)\u001b[0m\u001b[0;34m\u001b[0m\u001b[0;34m\u001b[0m\u001b[0m\n\u001b[0m",
            "\u001b[0;31mTypeError\u001b[0m: can only concatenate str (not \"int\") to str"
          ]
        }
      ]
    },
    {
      "cell_type": "markdown",
      "source": [
        "if not, then it's going to be ..."
      ],
      "metadata": {
        "id": "d5J9_vLUHz0x"
      }
    },
    {
      "cell_type": "code",
      "source": [
        "a = \"0\"\n",
        "b = 2\n",
        "a = int(a)\n",
        "print(a,b,a+b)"
      ],
      "metadata": {
        "colab": {
          "base_uri": "https://localhost:8080/"
        },
        "id": "bPkwOtomHwWb",
        "outputId": "617d8337-a26a-4df3-b634-916f1ac21e83"
      },
      "execution_count": 83,
      "outputs": [
        {
          "output_type": "stream",
          "name": "stdout",
          "text": [
            "0 2 2\n"
          ]
        }
      ]
    },
    {
      "cell_type": "markdown",
      "source": [
        "### Combining or Concatenating String"
      ],
      "metadata": {
        "id": "3AObWRQ2IZms"
      }
    },
    {
      "cell_type": "code",
      "source": [
        "first_name = \"Haseeb\"\n",
        "last_name = \"Aslam\"\n",
        "full_name = first_name +\" \"+ last_name\n",
        "print(first_name+last_name, full_name)"
      ],
      "metadata": {
        "colab": {
          "base_uri": "https://localhost:8080/"
        },
        "id": "30UO1e9KIHd_",
        "outputId": "a5a86fa1-88e8-4f76-8952-f72bb0905178"
      },
      "execution_count": 84,
      "outputs": [
        {
          "output_type": "stream",
          "name": "stdout",
          "text": [
            "HaseebAslam Haseeb Aslam\n"
          ]
        }
      ]
    },
    {
      "cell_type": "markdown",
      "source": [
        "### DocString"
      ],
      "metadata": {
        "id": "Ta6KMckiJWJc"
      }
    },
    {
      "cell_type": "code",
      "source": [
        "name = '''Muhammad Haseeb Aslam''' # not a prefered colons to use for docString\n",
        "print(name)\n",
        "name"
      ],
      "metadata": {
        "colab": {
          "base_uri": "https://localhost:8080/",
          "height": 53
        },
        "id": "v4r66dnEI7CR",
        "outputId": "cd0f5128-ce02-4529-ca33-dc4a4a8cb46e"
      },
      "execution_count": 85,
      "outputs": [
        {
          "output_type": "stream",
          "name": "stdout",
          "text": [
            "Muhammad Haseeb Aslam\n"
          ]
        },
        {
          "output_type": "execute_result",
          "data": {
            "text/plain": [
              "'Muhammad Haseeb Aslam'"
            ],
            "application/vnd.google.colaboratory.intrinsic+json": {
              "type": "string"
            }
          },
          "metadata": {},
          "execution_count": 85
        }
      ]
    },
    {
      "cell_type": "code",
      "source": [
        "details = \"\"\"\n",
        "Name :-  Muhammad Haseeb Aslam\n",
        "City :- Magdeburg, Germany\n",
        "Uiversity :- OVGU\n",
        "\"\"\"\n",
        "print(details)\n",
        "details"
      ],
      "metadata": {
        "colab": {
          "base_uri": "https://localhost:8080/",
          "height": 122
        },
        "id": "3lR1aqEAJvtR",
        "outputId": "62daf3a8-9b74-4c1f-e8cc-ebc000f910d6"
      },
      "execution_count": 86,
      "outputs": [
        {
          "output_type": "stream",
          "name": "stdout",
          "text": [
            "\n",
            "Name :-  Muhammad Haseeb Aslam\n",
            "City :- Magdeburg, Germany\n",
            "Uiversity :- OVGU\n",
            "\n"
          ]
        },
        {
          "output_type": "execute_result",
          "data": {
            "text/plain": [
              "'\\nName :-  Muhammad Haseeb Aslam\\nCity :- Magdeburg, Germany\\nUiversity :- OVGU\\n'"
            ],
            "application/vnd.google.colaboratory.intrinsic+json": {
              "type": "string"
            }
          },
          "metadata": {},
          "execution_count": 86
        }
      ]
    },
    {
      "cell_type": "code",
      "source": [
        "#ID Card For Univeristy\n",
        "details = \"\"\"\n",
        "OVGU Magdeburg\n",
        "Name :-  Muhammad Haseeb Aslam\n",
        "En_Roll :- 2244556\n",
        "Program :- DKE Batch :- Summer25\n",
        "\"\"\"\n",
        "print(details)"
      ],
      "metadata": {
        "colab": {
          "base_uri": "https://localhost:8080/"
        },
        "id": "ZEsrBcC0MwQ4",
        "outputId": "e0595e36-6d59-4716-81f0-590fe9b6669e"
      },
      "execution_count": 87,
      "outputs": [
        {
          "output_type": "stream",
          "name": "stdout",
          "text": [
            "\n",
            "OVGU Magdeburg\n",
            "Name :-  Muhammad Haseeb Aslam\n",
            "En_Roll :- 2244556\n",
            "Program :- DKE Batch :- Summer25\n",
            "\n"
          ]
        }
      ]
    },
    {
      "cell_type": "code",
      "source": [
        "#ID Card For Univeristy\n",
        "#it's help when you don't want to change the doc string format..\n",
        "name = \"Muhammad Haseeb Aslam\"\n",
        "en_roll = \"2443356\"\n",
        "program = \"DKE\"\n",
        "batch = \"Summer25\"\n",
        "\n",
        "details = f\"\"\"\n",
        "OVGU Magdeburg\n",
        "Name :-  {name}\n",
        "En_Roll :- {en_roll}\n",
        "Program :- {program} Batch :- {batch}\n",
        "\"\"\"\n",
        "print(details)\n",
        "details"
      ],
      "metadata": {
        "colab": {
          "base_uri": "https://localhost:8080/",
          "height": 140
        },
        "id": "MJUC0j2WNDfa",
        "outputId": "3dc2992d-fd68-4b1e-986a-4aea70120da4"
      },
      "execution_count": 88,
      "outputs": [
        {
          "output_type": "stream",
          "name": "stdout",
          "text": [
            "\n",
            "OVGU Magdeburg\n",
            "Name :-  Muhammad Haseeb Aslam\n",
            "En_Roll :- 2443356\n",
            "Program :- DKE Batch :- Summer25\n",
            "\n"
          ]
        },
        {
          "output_type": "execute_result",
          "data": {
            "text/plain": [
              "'\\nOVGU Magdeburg\\nName :-  Muhammad Haseeb Aslam\\nEn_Roll :- 2443356\\nProgram :- DKE Batch :- Summer25\\n'"
            ],
            "application/vnd.google.colaboratory.intrinsic+json": {
              "type": "string"
            }
          },
          "metadata": {},
          "execution_count": 88
        }
      ]
    },
    {
      "cell_type": "markdown",
      "source": [
        "Changing Cases"
      ],
      "metadata": {
        "id": "qkfWiFoM4AgC"
      }
    },
    {
      "cell_type": "code",
      "source": [
        "name = \"Muhammad Haseeb Aslam\"\n",
        "name"
      ],
      "metadata": {
        "id": "4QdJluVWNlsP",
        "colab": {
          "base_uri": "https://localhost:8080/",
          "height": 35
        },
        "outputId": "277bd3b9-2426-414e-dae6-75d811cb2c34"
      },
      "execution_count": 89,
      "outputs": [
        {
          "output_type": "execute_result",
          "data": {
            "text/plain": [
              "'Muhammad Haseeb Aslam'"
            ],
            "application/vnd.google.colaboratory.intrinsic+json": {
              "type": "string"
            }
          },
          "metadata": {},
          "execution_count": 89
        }
      ]
    },
    {
      "cell_type": "code",
      "source": [
        "name.upper() #shallow copy"
      ],
      "metadata": {
        "colab": {
          "base_uri": "https://localhost:8080/",
          "height": 35
        },
        "id": "GwErG1Pp4D9f",
        "outputId": "01805432-e76b-4db3-fc99-2c0e7d49e2d5"
      },
      "execution_count": 90,
      "outputs": [
        {
          "output_type": "execute_result",
          "data": {
            "text/plain": [
              "'MUHAMMAD HASEEB ASLAM'"
            ],
            "application/vnd.google.colaboratory.intrinsic+json": {
              "type": "string"
            }
          },
          "metadata": {},
          "execution_count": 90
        }
      ]
    },
    {
      "cell_type": "code",
      "source": [
        "name.title() #shallow copy"
      ],
      "metadata": {
        "colab": {
          "base_uri": "https://localhost:8080/",
          "height": 35
        },
        "id": "nm3MmXtk4Ov6",
        "outputId": "d1ab5b79-42e0-4b0c-d0f4-64ecb2462e72"
      },
      "execution_count": 91,
      "outputs": [
        {
          "output_type": "execute_result",
          "data": {
            "text/plain": [
              "'Muhammad Haseeb Aslam'"
            ],
            "application/vnd.google.colaboratory.intrinsic+json": {
              "type": "string"
            }
          },
          "metadata": {},
          "execution_count": 91
        }
      ]
    },
    {
      "cell_type": "code",
      "source": [
        "name.lower() #shallow copy"
      ],
      "metadata": {
        "colab": {
          "base_uri": "https://localhost:8080/",
          "height": 35
        },
        "id": "BExtR7bg4bWk",
        "outputId": "52036fea-9a81-41d7-aaad-9e4b200658db"
      },
      "execution_count": 92,
      "outputs": [
        {
          "output_type": "execute_result",
          "data": {
            "text/plain": [
              "'muhammad haseeb aslam'"
            ],
            "application/vnd.google.colaboratory.intrinsic+json": {
              "type": "string"
            }
          },
          "metadata": {},
          "execution_count": 92
        }
      ]
    },
    {
      "cell_type": "code",
      "source": [
        "name #orignal data remain same..."
      ],
      "metadata": {
        "colab": {
          "base_uri": "https://localhost:8080/",
          "height": 35
        },
        "id": "3uiJYJVs4gTP",
        "outputId": "bfc3f6c3-1606-4cbd-f88c-a2130f4dcaf2"
      },
      "execution_count": 93,
      "outputs": [
        {
          "output_type": "execute_result",
          "data": {
            "text/plain": [
              "'Muhammad Haseeb Aslam'"
            ],
            "application/vnd.google.colaboratory.intrinsic+json": {
              "type": "string"
            }
          },
          "metadata": {},
          "execution_count": 93
        }
      ]
    },
    {
      "cell_type": "markdown",
      "source": [
        "Avioding Extra Spaces"
      ],
      "metadata": {
        "id": "A6gZf3gN5A6p"
      }
    },
    {
      "cell_type": "code",
      "source": [
        "name =  \"Haseeb  Aslam   \"\n",
        "print(name) # will gonna return org. data as string\n",
        "name"
      ],
      "metadata": {
        "colab": {
          "base_uri": "https://localhost:8080/",
          "height": 53
        },
        "id": "J-OA2wgi4kiO",
        "outputId": "ae6c2d0f-c727-4cc5-b5e7-4dd6a4944627"
      },
      "execution_count": 94,
      "outputs": [
        {
          "output_type": "stream",
          "name": "stdout",
          "text": [
            "Haseeb  Aslam   \n"
          ]
        },
        {
          "output_type": "execute_result",
          "data": {
            "text/plain": [
              "'Haseeb  Aslam   '"
            ],
            "application/vnd.google.colaboratory.intrinsic+json": {
              "type": "string"
            }
          },
          "metadata": {},
          "execution_count": 94
        }
      ]
    },
    {
      "cell_type": "code",
      "source": [
        "name.rstrip() # return data without spaces only if its on last with shallow copy"
      ],
      "metadata": {
        "colab": {
          "base_uri": "https://localhost:8080/",
          "height": 35
        },
        "id": "yu9SJM9o5Is-",
        "outputId": "bf630ab2-4ee3-431b-a57d-be0df3cf1663"
      },
      "execution_count": 95,
      "outputs": [
        {
          "output_type": "execute_result",
          "data": {
            "text/plain": [
              "'Haseeb  Aslam'"
            ],
            "application/vnd.google.colaboratory.intrinsic+json": {
              "type": "string"
            }
          },
          "metadata": {},
          "execution_count": 95
        }
      ]
    },
    {
      "cell_type": "markdown",
      "source": [
        "\"Is\" Keyword"
      ],
      "metadata": {
        "id": "7x2pVzZy6Cs6"
      }
    },
    {
      "cell_type": "code",
      "source": [
        "#How \"is\" keyword return True if values are same\n",
        "num1 = 1\n",
        "num2 = 1\n",
        "num1 is num2"
      ],
      "metadata": {
        "colab": {
          "base_uri": "https://localhost:8080/"
        },
        "id": "0Pt_1r845a3i",
        "outputId": "4a1ee172-6922-4947-990a-f504c8a9899e"
      },
      "execution_count": 96,
      "outputs": [
        {
          "output_type": "execute_result",
          "data": {
            "text/plain": [
              "True"
            ]
          },
          "metadata": {},
          "execution_count": 96
        }
      ]
    },
    {
      "cell_type": "code",
      "source": [
        "# Reason of \"is\" to return True if value's are same...\n",
        "# if the value is same then the id of variable's in which value store will also same...\n",
        "print(id(num1))\n",
        "print(id(num2))"
      ],
      "metadata": {
        "colab": {
          "base_uri": "https://localhost:8080/"
        },
        "id": "ryZrQuns6Qdj",
        "outputId": "ae696a3b-4816-40be-9b52-285b44c02d42"
      },
      "execution_count": 97,
      "outputs": [
        {
          "output_type": "stream",
          "name": "stdout",
          "text": [
            "10750856\n",
            "10750856\n"
          ]
        }
      ]
    },
    {
      "cell_type": "markdown",
      "source": [
        "## Airthmetic Operators\n",
        "* (+) Addition\n",
        "* (-) Subtraction\n",
        "* (*) Multiplication\n",
        "* (/) Division\n",
        "* (//) floor Division\n",
        "* (%) Modulus\n",
        "* (**) Power"
      ],
      "metadata": {
        "id": "5Ki2TDyq7chq"
      }
    },
    {
      "cell_type": "markdown",
      "source": [
        "(+) Addition"
      ],
      "metadata": {
        "id": "sihUTYYr88E2"
      }
    },
    {
      "cell_type": "code",
      "source": [
        "3+6  #int + int = int"
      ],
      "metadata": {
        "colab": {
          "base_uri": "https://localhost:8080/"
        },
        "id": "DqRNRNQy7KOe",
        "outputId": "68504e18-72b6-4c12-cef4-388deff41b59"
      },
      "execution_count": 98,
      "outputs": [
        {
          "output_type": "execute_result",
          "data": {
            "text/plain": [
              "9"
            ]
          },
          "metadata": {},
          "execution_count": 98
        }
      ]
    },
    {
      "cell_type": "code",
      "source": [
        "#int/float + float = float\n",
        "3+6.6 #int + float = float"
      ],
      "metadata": {
        "colab": {
          "base_uri": "https://localhost:8080/"
        },
        "id": "UuIGBgAo9CZD",
        "outputId": "a8a52e5d-83c3-4b79-d8cb-fa9edd25e878"
      },
      "execution_count": 99,
      "outputs": [
        {
          "output_type": "execute_result",
          "data": {
            "text/plain": [
              "9.6"
            ]
          },
          "metadata": {},
          "execution_count": 99
        }
      ]
    },
    {
      "cell_type": "code",
      "source": [
        "'3'+6 #str + int/float = not possible without type casting"
      ],
      "metadata": {
        "colab": {
          "base_uri": "https://localhost:8080/",
          "height": 141
        },
        "id": "SnntNGvb9ES6",
        "outputId": "18604297-0b5a-48b6-9034-dd510865a19a"
      },
      "execution_count": 100,
      "outputs": [
        {
          "output_type": "error",
          "ename": "TypeError",
          "evalue": "can only concatenate str (not \"int\") to str",
          "traceback": [
            "\u001b[0;31m---------------------------------------------------------------------------\u001b[0m",
            "\u001b[0;31mTypeError\u001b[0m                                 Traceback (most recent call last)",
            "\u001b[0;32m<ipython-input-100-2861b05cd88d>\u001b[0m in \u001b[0;36m<cell line: 0>\u001b[0;34m()\u001b[0m\n\u001b[0;32m----> 1\u001b[0;31m \u001b[0;34m'3'\u001b[0m\u001b[0;34m+\u001b[0m\u001b[0;36m6\u001b[0m \u001b[0;31m#str + int/float = not possible without type casting\u001b[0m\u001b[0;34m\u001b[0m\u001b[0;34m\u001b[0m\u001b[0m\n\u001b[0m",
            "\u001b[0;31mTypeError\u001b[0m: can only concatenate str (not \"int\") to str"
          ]
        }
      ]
    },
    {
      "cell_type": "code",
      "source": [
        "#type casting\n",
        "int('3')+6"
      ],
      "metadata": {
        "colab": {
          "base_uri": "https://localhost:8080/"
        },
        "id": "fglpRdcF9Pcf",
        "outputId": "1dac71af-e961-4de7-ee23-54a3873c1c5d"
      },
      "execution_count": 101,
      "outputs": [
        {
          "output_type": "execute_result",
          "data": {
            "text/plain": [
              "9"
            ]
          },
          "metadata": {},
          "execution_count": 101
        }
      ]
    },
    {
      "cell_type": "code",
      "source": [
        "'3'+'6' #str + str = str"
      ],
      "metadata": {
        "colab": {
          "base_uri": "https://localhost:8080/",
          "height": 35
        },
        "id": "OqSXETSU9Rvj",
        "outputId": "5235e187-d66a-414a-8a63-2f299a720c8c"
      },
      "execution_count": 102,
      "outputs": [
        {
          "output_type": "execute_result",
          "data": {
            "text/plain": [
              "'36'"
            ],
            "application/vnd.google.colaboratory.intrinsic+json": {
              "type": "string"
            }
          },
          "metadata": {},
          "execution_count": 102
        }
      ]
    },
    {
      "cell_type": "code",
      "source": [
        "[\"Haseeb\",\"Aslam\"] + [\"Zahid\",\"Abrar\"] #adding/concatenate string's list"
      ],
      "metadata": {
        "colab": {
          "base_uri": "https://localhost:8080/"
        },
        "id": "zAj1SkCF-m6l",
        "outputId": "affdc2fc-4fe0-4d02-f60f-94daaffc981b"
      },
      "execution_count": 103,
      "outputs": [
        {
          "output_type": "execute_result",
          "data": {
            "text/plain": [
              "['Haseeb', 'Aslam', 'Zahid', 'Abrar']"
            ]
          },
          "metadata": {},
          "execution_count": 103
        }
      ]
    },
    {
      "cell_type": "code",
      "source": [
        "[\"Haseeb\",\"Aslam\"] + [1,6] #adding/concatenate string's and int's list"
      ],
      "metadata": {
        "colab": {
          "base_uri": "https://localhost:8080/"
        },
        "id": "gydUd8EY-qRQ",
        "outputId": "51b9768c-ea1b-40b0-9883-931bd71c68c4"
      },
      "execution_count": 104,
      "outputs": [
        {
          "output_type": "execute_result",
          "data": {
            "text/plain": [
              "['Haseeb', 'Aslam', 1, 6]"
            ]
          },
          "metadata": {},
          "execution_count": 104
        }
      ]
    },
    {
      "cell_type": "code",
      "source": [
        "(\"Haseeb\",\"Aslam\") + (\"Zahid\",\"Abrar\") #adding/concatenate string's tuple"
      ],
      "metadata": {
        "colab": {
          "base_uri": "https://localhost:8080/"
        },
        "id": "3GbXcAdz_m0M",
        "outputId": "93ca053c-4c0c-4ecb-9b6f-6dbdbffe1533"
      },
      "execution_count": 105,
      "outputs": [
        {
          "output_type": "execute_result",
          "data": {
            "text/plain": [
              "('Haseeb', 'Aslam', 'Zahid', 'Abrar')"
            ]
          },
          "metadata": {},
          "execution_count": 105
        }
      ]
    },
    {
      "cell_type": "code",
      "source": [
        "(\"Haseeb\",\"Aslam\") + (1,6) #adding/concatenate string's and int's tuple"
      ],
      "metadata": {
        "colab": {
          "base_uri": "https://localhost:8080/"
        },
        "id": "hFpjX-ip_yk4",
        "outputId": "5ec55138-6779-4e7d-924f-75ff0c4411e9"
      },
      "execution_count": 106,
      "outputs": [
        {
          "output_type": "execute_result",
          "data": {
            "text/plain": [
              "('Haseeb', 'Aslam', 1, 6)"
            ]
          },
          "metadata": {},
          "execution_count": 106
        }
      ]
    },
    {
      "cell_type": "code",
      "source": [
        "#adding/concatenate/+ is not allow to apply on dict{:,:,:,...} and set{}"
      ],
      "metadata": {
        "id": "sFe27NG7AOCC"
      },
      "execution_count": 107,
      "outputs": []
    },
    {
      "cell_type": "markdown",
      "source": [
        "(-) Subtraction"
      ],
      "metadata": {
        "id": "dYAS-M-5KoHX"
      }
    },
    {
      "cell_type": "code",
      "source": [
        "5-2"
      ],
      "metadata": {
        "id": "tzKT6Qy0ATj5",
        "colab": {
          "base_uri": "https://localhost:8080/"
        },
        "outputId": "39d69704-a693-491c-97b5-771923dfb0ed"
      },
      "execution_count": 108,
      "outputs": [
        {
          "output_type": "execute_result",
          "data": {
            "text/plain": [
              "3"
            ]
          },
          "metadata": {},
          "execution_count": 108
        }
      ]
    },
    {
      "cell_type": "code",
      "source": [
        "5.2-2"
      ],
      "metadata": {
        "colab": {
          "base_uri": "https://localhost:8080/"
        },
        "id": "rARv9ba5KtvE",
        "outputId": "b15e8842-c8c1-42d1-a479-4729fda92d6a"
      },
      "execution_count": 109,
      "outputs": [
        {
          "output_type": "execute_result",
          "data": {
            "text/plain": [
              "3.2"
            ]
          },
          "metadata": {},
          "execution_count": 109
        }
      ]
    },
    {
      "cell_type": "code",
      "source": [
        "{5,6,7,8} - {6,2} #set subtraction --> intersection"
      ],
      "metadata": {
        "colab": {
          "base_uri": "https://localhost:8080/"
        },
        "id": "q8RZiHgZKxgv",
        "outputId": "4187dd10-6e07-45c9-e6b6-cccccaa5af68"
      },
      "execution_count": 110,
      "outputs": [
        {
          "output_type": "execute_result",
          "data": {
            "text/plain": [
              "{5, 7, 8}"
            ]
          },
          "metadata": {},
          "execution_count": 110
        }
      ]
    },
    {
      "cell_type": "code",
      "source": [
        "{\"Haseeb\", \"Ali\", \"Zabi\"} - {\"Zabi\"}#set subtraction --> intersection"
      ],
      "metadata": {
        "colab": {
          "base_uri": "https://localhost:8080/"
        },
        "id": "n-hXVe4FK7yI",
        "outputId": "23958964-1d0e-4c47-d003-e07d6daf31f6"
      },
      "execution_count": 111,
      "outputs": [
        {
          "output_type": "execute_result",
          "data": {
            "text/plain": [
              "{'Ali', 'Haseeb'}"
            ]
          },
          "metadata": {},
          "execution_count": 111
        }
      ]
    },
    {
      "cell_type": "code",
      "source": [
        "#sub/- is not allow to apply on dict{:,:,:,...}, tuple ( , , ,...) and list[     , , ,...]"
      ],
      "metadata": {
        "id": "hPDQ0KSPLDY9"
      },
      "execution_count": 112,
      "outputs": []
    },
    {
      "cell_type": "markdown",
      "source": [
        "(*) Multiplication"
      ],
      "metadata": {
        "id": "CdsBIV1jLelc"
      }
    },
    {
      "cell_type": "code",
      "source": [
        "3*8"
      ],
      "metadata": {
        "colab": {
          "base_uri": "https://localhost:8080/"
        },
        "id": "tAXpjNSVLSqH",
        "outputId": "36683063-49c1-4eed-b1ff-824fc9c8e88c"
      },
      "execution_count": 113,
      "outputs": [
        {
          "output_type": "execute_result",
          "data": {
            "text/plain": [
              "24"
            ]
          },
          "metadata": {},
          "execution_count": 113
        }
      ]
    },
    {
      "cell_type": "code",
      "source": [
        "3.0 * 6"
      ],
      "metadata": {
        "colab": {
          "base_uri": "https://localhost:8080/"
        },
        "id": "8uOWeCjuLnd8",
        "outputId": "3429c338-13c8-4f92-d362-e290e64ef7e7"
      },
      "execution_count": 114,
      "outputs": [
        {
          "output_type": "execute_result",
          "data": {
            "text/plain": [
              "18.0"
            ]
          },
          "metadata": {},
          "execution_count": 114
        }
      ]
    },
    {
      "cell_type": "code",
      "source": [
        "'3 '*6"
      ],
      "metadata": {
        "colab": {
          "base_uri": "https://localhost:8080/",
          "height": 35
        },
        "id": "_zM1GrzeLpgz",
        "outputId": "22c6c2eb-bcd2-44f1-ce68-4fe1973fb552"
      },
      "execution_count": 115,
      "outputs": [
        {
          "output_type": "execute_result",
          "data": {
            "text/plain": [
              "'3 3 3 3 3 3 '"
            ],
            "application/vnd.google.colaboratory.intrinsic+json": {
              "type": "string"
            }
          },
          "metadata": {},
          "execution_count": 115
        }
      ]
    },
    {
      "cell_type": "code",
      "source": [
        "a = ('3 ')\n",
        "print(type(a))\n",
        "('3 ')*6        # taking it as simple string not tuple..."
      ],
      "metadata": {
        "colab": {
          "base_uri": "https://localhost:8080/",
          "height": 53
        },
        "id": "KcwSwq-LLr5Z",
        "outputId": "1162a22a-2da3-4038-a070-f4c3c1944b14"
      },
      "execution_count": 116,
      "outputs": [
        {
          "output_type": "stream",
          "name": "stdout",
          "text": [
            "<class 'str'>\n"
          ]
        },
        {
          "output_type": "execute_result",
          "data": {
            "text/plain": [
              "'3 3 3 3 3 3 '"
            ],
            "application/vnd.google.colaboratory.intrinsic+json": {
              "type": "string"
            }
          },
          "metadata": {},
          "execution_count": 116
        }
      ]
    },
    {
      "cell_type": "markdown",
      "source": [
        "\n",
        "### ( ) stand alone refelcts doesn't until unless their is , in ( ), like wise (,) in tuple. But for list [ ] are enough."
      ],
      "metadata": {
        "id": "iJE5rQycM7zN"
      }
    },
    {
      "cell_type": "code",
      "source": [
        "a = ('3 ',)\n",
        "print(type(a))\n",
        "('3 ',)*6      #taking it as simple tuple..."
      ],
      "metadata": {
        "colab": {
          "base_uri": "https://localhost:8080/"
        },
        "id": "N0nH0lNdL4We",
        "outputId": "a92c5086-b58a-4cee-b846-6a4533f81208"
      },
      "execution_count": 117,
      "outputs": [
        {
          "output_type": "stream",
          "name": "stdout",
          "text": [
            "<class 'tuple'>\n"
          ]
        },
        {
          "output_type": "execute_result",
          "data": {
            "text/plain": [
              "('3 ', '3 ', '3 ', '3 ', '3 ', '3 ')"
            ]
          },
          "metadata": {},
          "execution_count": 117
        }
      ]
    },
    {
      "cell_type": "code",
      "source": [
        "a = ['3']\n",
        "print(type(a))\n",
        "['3 ',]*6      #taking it as simple tuple..."
      ],
      "metadata": {
        "colab": {
          "base_uri": "https://localhost:8080/"
        },
        "id": "Yty0zSLaMTPI",
        "outputId": "975c0400-358c-448a-d416-94d38b49e5d8"
      },
      "execution_count": 118,
      "outputs": [
        {
          "output_type": "stream",
          "name": "stdout",
          "text": [
            "<class 'list'>\n"
          ]
        },
        {
          "output_type": "execute_result",
          "data": {
            "text/plain": [
              "['3 ', '3 ', '3 ', '3 ', '3 ', '3 ']"
            ]
          },
          "metadata": {},
          "execution_count": 118
        }
      ]
    },
    {
      "cell_type": "code",
      "source": [
        "#multiplication/*  is not allow to apply on dict{:,:,:,...} and set{}"
      ],
      "metadata": {
        "id": "6MObjXdPMWh4"
      },
      "execution_count": 119,
      "outputs": []
    },
    {
      "cell_type": "markdown",
      "source": [
        "(/) Devision"
      ],
      "metadata": {
        "id": "kUeFMasIPCfR"
      }
    },
    {
      "cell_type": "code",
      "source": [
        "11 / 3 # division always return float"
      ],
      "metadata": {
        "colab": {
          "base_uri": "https://localhost:8080/"
        },
        "id": "0UJKM5eONjXm",
        "outputId": "05d4bbb1-5b4d-4a11-c814-015bd43b7122"
      },
      "execution_count": 120,
      "outputs": [
        {
          "output_type": "execute_result",
          "data": {
            "text/plain": [
              "3.6666666666666665"
            ]
          },
          "metadata": {},
          "execution_count": 120
        }
      ]
    },
    {
      "cell_type": "code",
      "source": [
        "#Division /  is not allow to apply on Lists, Tuples, String, dict{:,:,:,...} and set{}"
      ],
      "metadata": {
        "id": "1H3mtxRhPPrM"
      },
      "execution_count": 121,
      "outputs": []
    },
    {
      "cell_type": "markdown",
      "source": [
        "// or Floor Division"
      ],
      "metadata": {
        "id": "zNv2ZNebQQeE"
      }
    },
    {
      "cell_type": "code",
      "source": [
        "11 // 3 # floor division always return int"
      ],
      "metadata": {
        "colab": {
          "base_uri": "https://localhost:8080/"
        },
        "id": "Y4yiunnUQJJW",
        "outputId": "ba31213f-80e5-4a71-deac-dedd1b14a39d"
      },
      "execution_count": 122,
      "outputs": [
        {
          "output_type": "execute_result",
          "data": {
            "text/plain": [
              "3"
            ]
          },
          "metadata": {},
          "execution_count": 122
        }
      ]
    },
    {
      "cell_type": "markdown",
      "source": [
        " ###   % / Modulus  \n",
        "                \n",
        "             ___3___\n",
        "        __3_|   11  |____   \n",
        "                9\n",
        "            ----------\n",
        "                2   # Modulus\n",
        "   "
      ],
      "metadata": {
        "id": "pP7tI3d2R1RB"
      }
    },
    {
      "cell_type": "code",
      "source": [
        "11 % 3"
      ],
      "metadata": {
        "colab": {
          "base_uri": "https://localhost:8080/"
        },
        "id": "zWIgzi25RxPx",
        "outputId": "8fddca53-829e-4bac-f76e-718d59438b41"
      },
      "execution_count": 123,
      "outputs": [
        {
          "output_type": "execute_result",
          "data": {
            "text/plain": [
              "2"
            ]
          },
          "metadata": {},
          "execution_count": 123
        }
      ]
    },
    {
      "cell_type": "markdown",
      "source": [
        "** / Power"
      ],
      "metadata": {
        "id": "b8JLk70jTKjP"
      }
    },
    {
      "cell_type": "code",
      "source": [
        "#power\n",
        "print(2 ** 3)\n",
        "print((1+1) ** 3)\n",
        "print(2.5 ** 3)"
      ],
      "metadata": {
        "colab": {
          "base_uri": "https://localhost:8080/"
        },
        "id": "k71OBqIXTH-m",
        "outputId": "26cd94a0-5064-4ecc-93b5-cf2f01441764"
      },
      "execution_count": 124,
      "outputs": [
        {
          "output_type": "stream",
          "name": "stdout",
          "text": [
            "8\n",
            "8\n",
            "15.625\n"
          ]
        }
      ]
    },
    {
      "cell_type": "code",
      "source": [
        "## Next\n",
        "## Comparison (Relational) Operators"
      ],
      "metadata": {
        "id": "4xwgIcssTMkc"
      },
      "execution_count": 125,
      "outputs": []
    },
    {
      "cell_type": "code",
      "source": [],
      "metadata": {
        "id": "f6WtAvmbTVfZ"
      },
      "execution_count": 125,
      "outputs": []
    }
  ]
}